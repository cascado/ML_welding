{
 "cells": [
  {
   "cell_type": "code",
   "execution_count": 1,
   "id": "38c918bc",
   "metadata": {},
   "outputs": [],
   "source": [
    "import pandas as pd\n",
    "import numpy as np\n",
    "import scipy.stats as stats\n",
    "import seaborn as sns\n",
    "import matplotlib.pyplot as plt\n",
    "%matplotlib inline\n",
    "sns.set(style=\"ticks\")\n",
    "from sklearn.model_selection import train_test_split\n",
    "from sklearn.model_selection import KFold\n",
    "from sklearn.model_selection import cross_val_score, cross_validate\n",
    "from sklearn.model_selection import GridSearchCV\n",
    "from sklearn.pipeline import Pipeline\n",
    "from sklearn.compose import ColumnTransformer\n",
    "from sklearn.preprocessing import StandardScaler\n",
    "from sklearn.preprocessing import MinMaxScaler\n",
    "from sklearn.base import BaseEstimator\n",
    "from sklearn.dummy import DummyRegressor\n",
    "from sklearn.linear_model import LinearRegression\n",
    "from sklearn.linear_model import Ridge\n",
    "from sklearn.linear_model import Lasso\n",
    "from sklearn.svm import SVR\n",
    "from sklearn.neighbors import KNeighborsRegressor\n",
    "from sklearn.tree import DecisionTreeRegressor\n",
    "from sklearn.ensemble import RandomForestRegressor\n",
    "from sklearn.ensemble import GradientBoostingRegressor\n",
    "from sklearn import metrics\n",
    "from sklearn.model_selection import validation_curve\n",
    "from tensorflow.keras import Sequential\n",
    "from tensorflow.keras.layers import Dense, Dropout\n",
    "import tensorflow as tf\n",
    "import warnings\n",
    "import joblib as jb\n",
    "warnings.filterwarnings('ignore')"
   ]
  },
  {
   "cell_type": "code",
   "execution_count": 2,
   "id": "e462fa29",
   "metadata": {},
   "outputs": [],
   "source": [
    "import pickle"
   ]
  },
  {
   "cell_type": "markdown",
   "id": "39678453",
   "metadata": {},
   "source": [
    "# Чтение датасета"
   ]
  },
  {
   "cell_type": "code",
   "execution_count": 3,
   "id": "91d351b2",
   "metadata": {},
   "outputs": [
    {
     "data": {
      "text/html": [
       "<div>\n",
       "<style scoped>\n",
       "    .dataframe tbody tr th:only-of-type {\n",
       "        vertical-align: middle;\n",
       "    }\n",
       "\n",
       "    .dataframe tbody tr th {\n",
       "        vertical-align: top;\n",
       "    }\n",
       "\n",
       "    .dataframe thead th {\n",
       "        text-align: right;\n",
       "    }\n",
       "</style>\n",
       "<table border=\"1\" class=\"dataframe\">\n",
       "  <thead>\n",
       "    <tr style=\"text-align: right;\">\n",
       "      <th></th>\n",
       "      <th>IW</th>\n",
       "      <th>IF</th>\n",
       "      <th>VW</th>\n",
       "      <th>FP</th>\n",
       "      <th>Depth</th>\n",
       "      <th>Width</th>\n",
       "    </tr>\n",
       "  </thead>\n",
       "  <tbody>\n",
       "    <tr>\n",
       "      <th>0</th>\n",
       "      <td>47</td>\n",
       "      <td>139</td>\n",
       "      <td>4.5</td>\n",
       "      <td>80</td>\n",
       "      <td>1.60</td>\n",
       "      <td>2.54</td>\n",
       "    </tr>\n",
       "    <tr>\n",
       "      <th>1</th>\n",
       "      <td>47</td>\n",
       "      <td>139</td>\n",
       "      <td>4.5</td>\n",
       "      <td>80</td>\n",
       "      <td>1.62</td>\n",
       "      <td>2.50</td>\n",
       "    </tr>\n",
       "    <tr>\n",
       "      <th>2</th>\n",
       "      <td>47</td>\n",
       "      <td>139</td>\n",
       "      <td>4.5</td>\n",
       "      <td>80</td>\n",
       "      <td>1.68</td>\n",
       "      <td>2.60</td>\n",
       "    </tr>\n",
       "    <tr>\n",
       "      <th>3</th>\n",
       "      <td>47</td>\n",
       "      <td>139</td>\n",
       "      <td>4.5</td>\n",
       "      <td>80</td>\n",
       "      <td>1.58</td>\n",
       "      <td>2.52</td>\n",
       "    </tr>\n",
       "    <tr>\n",
       "      <th>4</th>\n",
       "      <td>45</td>\n",
       "      <td>140</td>\n",
       "      <td>4.5</td>\n",
       "      <td>80</td>\n",
       "      <td>1.76</td>\n",
       "      <td>2.48</td>\n",
       "    </tr>\n",
       "  </tbody>\n",
       "</table>\n",
       "</div>"
      ],
      "text/plain": [
       "   IW   IF   VW  FP  Depth  Width\n",
       "0  47  139  4.5  80   1.60   2.54\n",
       "1  47  139  4.5  80   1.62   2.50\n",
       "2  47  139  4.5  80   1.68   2.60\n",
       "3  47  139  4.5  80   1.58   2.52\n",
       "4  45  140  4.5  80   1.76   2.48"
      ]
     },
     "execution_count": 3,
     "metadata": {},
     "output_type": "execute_result"
    }
   ],
   "source": [
    "df_start=pd.read_csv(\"ebw_data.csv\")\n",
    "df_start.head(5)"
   ]
  },
  {
   "cell_type": "markdown",
   "id": "19f789f4",
   "metadata": {},
   "source": [
    "# Разведочный анализ и описательная статистика"
   ]
  },
  {
   "cell_type": "code",
   "execution_count": 4,
   "id": "b312fc89",
   "metadata": {},
   "outputs": [
    {
     "name": "stdout",
     "output_type": "stream",
     "text": [
      "<class 'pandas.core.frame.DataFrame'>\n",
      "RangeIndex: 72 entries, 0 to 71\n",
      "Data columns (total 6 columns):\n",
      " #   Column  Non-Null Count  Dtype  \n",
      "---  ------  --------------  -----  \n",
      " 0   IW      72 non-null     int64  \n",
      " 1   IF      72 non-null     int64  \n",
      " 2   VW      72 non-null     float64\n",
      " 3   FP      72 non-null     int64  \n",
      " 4   Depth   72 non-null     float64\n",
      " 5   Width   72 non-null     float64\n",
      "dtypes: float64(3), int64(3)\n",
      "memory usage: 3.5 KB\n"
     ]
    }
   ],
   "source": [
    "df_start.info()"
   ]
  },
  {
   "cell_type": "code",
   "execution_count": 5,
   "id": "5427f951",
   "metadata": {},
   "outputs": [
    {
     "name": "stdout",
     "output_type": "stream",
     "text": [
      "<class 'pandas.core.frame.DataFrame'>\n",
      "RangeIndex: 72 entries, 0 to 71\n",
      "Data columns (total 6 columns):\n",
      " #   Column  Non-Null Count  Dtype  \n",
      "---  ------  --------------  -----  \n",
      " 0   IW      72 non-null     float64\n",
      " 1   IF      72 non-null     float64\n",
      " 2   VW      72 non-null     float64\n",
      " 3   FP      72 non-null     float64\n",
      " 4   Depth   72 non-null     float64\n",
      " 5   Width   72 non-null     float64\n",
      "dtypes: float64(6)\n",
      "memory usage: 3.5 KB\n"
     ]
    }
   ],
   "source": [
    "df_start[[\"IW\",\"IF\",\"FP\"]]=df_start[[\"IW\",\"IF\",\"FP\"]].astype(float)\n",
    "df_start.info()"
   ]
  },
  {
   "cell_type": "markdown",
   "id": "fc2a3463",
   "metadata": {},
   "source": [
    "### Проверка на пропуски"
   ]
  },
  {
   "cell_type": "code",
   "execution_count": 6,
   "id": "6a81e8cb",
   "metadata": {},
   "outputs": [
    {
     "data": {
      "text/plain": [
       "IW       0\n",
       "IF       0\n",
       "VW       0\n",
       "FP       0\n",
       "Depth    0\n",
       "Width    0\n",
       "dtype: int64"
      ]
     },
     "execution_count": 6,
     "metadata": {},
     "output_type": "execute_result"
    }
   ],
   "source": [
    "df_start.isnull().sum()"
   ]
  },
  {
   "cell_type": "code",
   "execution_count": 7,
   "id": "56515553",
   "metadata": {
    "scrolled": true
   },
   "outputs": [
    {
     "data": {
      "text/html": [
       "<div>\n",
       "<style scoped>\n",
       "    .dataframe tbody tr th:only-of-type {\n",
       "        vertical-align: middle;\n",
       "    }\n",
       "\n",
       "    .dataframe tbody tr th {\n",
       "        vertical-align: top;\n",
       "    }\n",
       "\n",
       "    .dataframe thead th {\n",
       "        text-align: right;\n",
       "    }\n",
       "</style>\n",
       "<table border=\"1\" class=\"dataframe\">\n",
       "  <thead>\n",
       "    <tr style=\"text-align: right;\">\n",
       "      <th></th>\n",
       "      <th>IW</th>\n",
       "      <th>IF</th>\n",
       "      <th>VW</th>\n",
       "      <th>FP</th>\n",
       "      <th>Depth</th>\n",
       "      <th>Width</th>\n",
       "    </tr>\n",
       "  </thead>\n",
       "  <tbody>\n",
       "    <tr>\n",
       "      <th>count</th>\n",
       "      <td>72.000000</td>\n",
       "      <td>72.000000</td>\n",
       "      <td>72.000000</td>\n",
       "      <td>72.000000</td>\n",
       "      <td>72.000000</td>\n",
       "      <td>72.000000</td>\n",
       "    </tr>\n",
       "    <tr>\n",
       "      <th>mean</th>\n",
       "      <td>45.666667</td>\n",
       "      <td>141.333333</td>\n",
       "      <td>8.638889</td>\n",
       "      <td>78.333333</td>\n",
       "      <td>1.195556</td>\n",
       "      <td>1.970417</td>\n",
       "    </tr>\n",
       "    <tr>\n",
       "      <th>std</th>\n",
       "      <td>1.678363</td>\n",
       "      <td>5.145763</td>\n",
       "      <td>2.061078</td>\n",
       "      <td>21.493530</td>\n",
       "      <td>0.225081</td>\n",
       "      <td>0.279040</td>\n",
       "    </tr>\n",
       "    <tr>\n",
       "      <th>min</th>\n",
       "      <td>43.000000</td>\n",
       "      <td>131.000000</td>\n",
       "      <td>4.500000</td>\n",
       "      <td>50.000000</td>\n",
       "      <td>0.800000</td>\n",
       "      <td>1.680000</td>\n",
       "    </tr>\n",
       "    <tr>\n",
       "      <th>25%</th>\n",
       "      <td>44.000000</td>\n",
       "      <td>139.000000</td>\n",
       "      <td>8.000000</td>\n",
       "      <td>60.000000</td>\n",
       "      <td>1.080000</td>\n",
       "      <td>1.760000</td>\n",
       "    </tr>\n",
       "    <tr>\n",
       "      <th>50%</th>\n",
       "      <td>45.500000</td>\n",
       "      <td>141.000000</td>\n",
       "      <td>9.000000</td>\n",
       "      <td>80.000000</td>\n",
       "      <td>1.200000</td>\n",
       "      <td>1.840000</td>\n",
       "    </tr>\n",
       "    <tr>\n",
       "      <th>75%</th>\n",
       "      <td>47.000000</td>\n",
       "      <td>146.000000</td>\n",
       "      <td>10.000000</td>\n",
       "      <td>80.000000</td>\n",
       "      <td>1.290000</td>\n",
       "      <td>2.050000</td>\n",
       "    </tr>\n",
       "    <tr>\n",
       "      <th>max</th>\n",
       "      <td>49.000000</td>\n",
       "      <td>150.000000</td>\n",
       "      <td>12.000000</td>\n",
       "      <td>125.000000</td>\n",
       "      <td>1.760000</td>\n",
       "      <td>2.600000</td>\n",
       "    </tr>\n",
       "  </tbody>\n",
       "</table>\n",
       "</div>"
      ],
      "text/plain": [
       "              IW          IF         VW          FP      Depth      Width\n",
       "count  72.000000   72.000000  72.000000   72.000000  72.000000  72.000000\n",
       "mean   45.666667  141.333333   8.638889   78.333333   1.195556   1.970417\n",
       "std     1.678363    5.145763   2.061078   21.493530   0.225081   0.279040\n",
       "min    43.000000  131.000000   4.500000   50.000000   0.800000   1.680000\n",
       "25%    44.000000  139.000000   8.000000   60.000000   1.080000   1.760000\n",
       "50%    45.500000  141.000000   9.000000   80.000000   1.200000   1.840000\n",
       "75%    47.000000  146.000000  10.000000   80.000000   1.290000   2.050000\n",
       "max    49.000000  150.000000  12.000000  125.000000   1.760000   2.600000"
      ]
     },
     "execution_count": 7,
     "metadata": {},
     "output_type": "execute_result"
    }
   ],
   "source": [
    "df_start.describe()"
   ]
  },
  {
   "cell_type": "markdown",
   "id": "3d9d2497",
   "metadata": {},
   "source": [
    "### Количество уникальных значений в столбцах"
   ]
  },
  {
   "cell_type": "code",
   "execution_count": 8,
   "id": "dc941d0e",
   "metadata": {
    "scrolled": true
   },
   "outputs": [
    {
     "data": {
      "text/plain": [
       "IW        7\n",
       "IF        8\n",
       "VW        5\n",
       "FP        5\n",
       "Depth    29\n",
       "Width    25\n",
       "dtype: int64"
      ]
     },
     "execution_count": 8,
     "metadata": {},
     "output_type": "execute_result"
    }
   ],
   "source": [
    "df_start.nunique()"
   ]
  },
  {
   "cell_type": "markdown",
   "id": "2a1bdfc9",
   "metadata": {},
   "source": [
    "### Построим функцию для вывода графиков для анализа датасета а также функцию проверяющую нормальность распределения признаков датасета при помощи теста Шапиро"
   ]
  },
  {
   "cell_type": "code",
   "execution_count": 9,
   "id": "3f653fda",
   "metadata": {},
   "outputs": [],
   "source": [
    "def diagnostic_plots (df, variable, title):\n",
    "    fig, ax=plt.subplots(figsize=(10,7))\n",
    "    #гистограмма\n",
    "    plt.subplot (2,2,1)\n",
    "    df[variable].hist(bins=30)\n",
    "    #Q-Q plot\n",
    "    plt.subplot(2,2,2)\n",
    "    stats.probplot (df[variable], dist=\"norm\", plot=plt)\n",
    "    #скрипичная диаграмма \n",
    "    plt.subplot(2,2,3)\n",
    "    sns.violinplot(x=df[variable])\n",
    "    #ящик с усами\n",
    "    plt.subplot(2,2,4)\n",
    "    sns.boxplot(x=df[variable])\n",
    "    fig.suptitle(title)\n",
    "    plt.show"
   ]
  },
  {
   "cell_type": "code",
   "execution_count": 10,
   "id": "db990d20",
   "metadata": {},
   "outputs": [],
   "source": [
    "def test_shapiro (df, variable):\n",
    "    stat, p=stats.shapiro(df[variable])\n",
    "    print (\"Statistics=%.3f,p-value=%3f\"%(stat,p))\n",
    "    alpha=0.05\n",
    "    if p>alpha:\n",
    "        print (\"Нормальное распределение\")\n",
    "    else:\n",
    "        print(\"Ненормальное распределение\")"
   ]
  },
  {
   "cell_type": "code",
   "execution_count": 11,
   "id": "f95a7ff0",
   "metadata": {},
   "outputs": [
    {
     "data": {
      "image/png": "[encoded data removed]",
      "text/plain": [
       "<Figure size 720x504 with 4 Axes>"
      ]
     },
     "metadata": {},
     "output_type": "display_data"
    }
   ],
   "source": [
    "diagnostic_plots(df_start,\"IW\", \"Величина  сварочного тока\")"
   ]
  },
  {
   "cell_type": "code",
   "execution_count": 12,
   "id": "6f36abec",
   "metadata": {},
   "outputs": [
    {
     "name": "stdout",
     "output_type": "stream",
     "text": [
      "Statistics=0.932,p-value=0.000779\n",
      "Ненормальное распределение\n"
     ]
    }
   ],
   "source": [
    "test_shapiro(df_start,\"IW\")"
   ]
  },
  {
   "cell_type": "code",
   "execution_count": 13,
   "id": "5e1a5d8c",
   "metadata": {},
   "outputs": [
    {
     "data": {
      "image/png": "[encoded data removed]",
      "text/plain": [
       "<Figure size 720x504 with 4 Axes>"
      ]
     },
     "metadata": {},
     "output_type": "display_data"
    }
   ],
   "source": [
    "diagnostic_plots(df_start,\"IF\", \"Ток фокусировки электронного пучка\")"
   ]
  },
  {
   "cell_type": "code",
   "execution_count": 14,
   "id": "5e73a367",
   "metadata": {},
   "outputs": [
    {
     "name": "stdout",
     "output_type": "stream",
     "text": [
      "Statistics=0.896,p-value=0.000022\n",
      "Ненормальное распределение\n"
     ]
    }
   ],
   "source": [
    "test_shapiro(df_start,\"IF\")"
   ]
  },
  {
   "cell_type": "code",
   "execution_count": 15,
   "id": "49e7ed99",
   "metadata": {},
   "outputs": [
    {
     "data": {
      "image/png": "[encoded data removed]",
      "text/plain": [
       "<Figure size 720x504 with 4 Axes>"
      ]
     },
     "metadata": {},
     "output_type": "display_data"
    }
   ],
   "source": [
    "diagnostic_plots(df_start,\"VW\", \"Скорость сварки\")"
   ]
  },
  {
   "cell_type": "code",
   "execution_count": 16,
   "id": "67e1d81d",
   "metadata": {},
   "outputs": [
    {
     "name": "stdout",
     "output_type": "stream",
     "text": [
      "Statistics=0.789,p-value=0.000000\n",
      "Ненормальное распределение\n"
     ]
    }
   ],
   "source": [
    "test_shapiro(df_start,\"VW\")"
   ]
  },
  {
   "cell_type": "code",
   "execution_count": 17,
   "id": "831d04ae",
   "metadata": {},
   "outputs": [
    {
     "data": {
      "image/png": "[encoded data removed]",
      "text/plain": [
       "<Figure size 720x504 with 4 Axes>"
      ]
     },
     "metadata": {},
     "output_type": "display_data"
    }
   ],
   "source": [
    "diagnostic_plots(df_start,\"FP\", \"Расстояние от поверхности образцов до электронно-оптической системы\")"
   ]
  },
  {
   "cell_type": "code",
   "execution_count": 133,
   "id": "13e29605",
   "metadata": {},
   "outputs": [
    {
     "name": "stdout",
     "output_type": "stream",
     "text": [
      "Statistics=0.803,p-value=0.000000\n",
      "Ненормальное распределение\n"
     ]
    }
   ],
   "source": [
    "test_shapiro(df_start,\"FP\")"
   ]
  },
  {
   "cell_type": "code",
   "execution_count": 19,
   "id": "530ebada",
   "metadata": {},
   "outputs": [
    {
     "data": {
      "image/png": "[encoded data removed]",
      "text/plain": [
       "<Figure size 720x504 with 4 Axes>"
      ]
     },
     "metadata": {},
     "output_type": "display_data"
    }
   ],
   "source": [
    "diagnostic_plots(df_start,\"Depth\", \"Глубина шва\")"
   ]
  },
  {
   "cell_type": "code",
   "execution_count": 20,
   "id": "c1692764",
   "metadata": {},
   "outputs": [
    {
     "name": "stdout",
     "output_type": "stream",
     "text": [
      "Statistics=0.951,p-value=0.006788\n",
      "Ненормальное распределение\n"
     ]
    }
   ],
   "source": [
    "test_shapiro(df_start,\"Depth\")"
   ]
  },
  {
   "cell_type": "code",
   "execution_count": 21,
   "id": "aac26757",
   "metadata": {},
   "outputs": [
    {
     "data": {
      "image/png": "[encoded data removed]",
      "text/plain": [
       "<Figure size 720x504 with 4 Axes>"
      ]
     },
     "metadata": {},
     "output_type": "display_data"
    }
   ],
   "source": [
    "diagnostic_plots(df_start,\"Width\", \"Ширина шва\")"
   ]
  },
  {
   "cell_type": "code",
   "execution_count": 22,
   "id": "aa743633",
   "metadata": {},
   "outputs": [
    {
     "name": "stdout",
     "output_type": "stream",
     "text": [
      "Statistics=0.786,p-value=0.000000\n",
      "Ненормальное распределение\n"
     ]
    }
   ],
   "source": [
    "test_shapiro(df_start,\"Width\")"
   ]
  },
  {
   "cell_type": "markdown",
   "id": "339c3bf0",
   "metadata": {},
   "source": [
    "### Построим тепловую карту коэффициентов корреляции"
   ]
  },
  {
   "cell_type": "code",
   "execution_count": 23,
   "id": "bcfb47e3",
   "metadata": {},
   "outputs": [
    {
     "data": {
      "text/plain": [
       "Text(0.5, 1.0, 'Тепловая карта коэффициента корреляции')"
      ]
     },
     "execution_count": 23,
     "metadata": {},
     "output_type": "execute_result"
    },
    {
     "data": {
      "image/png": "[encoded data removed]",
      "text/plain": [
       "<Figure size 432x288 with 2 Axes>"
      ]
     },
     "metadata": {},
     "output_type": "display_data"
    }
   ],
   "source": [
    "sns.heatmap(df_start.corr(), annot = True, fmt='.1g')\n",
    "plt.title(\"Тепловая карта коэффициента корреляции\")"
   ]
  },
  {
   "cell_type": "markdown",
   "id": "afbc5d83",
   "metadata": {},
   "source": [
    "# Выводы:"
   ]
  },
  {
   "cell_type": "markdown",
   "id": "536adbf8",
   "metadata": {},
   "source": [
    "1. Датасет состоит из 72 строк и 6 столбцов: 2 столбца - целевые признаки, 4 - классификационные. Все признаки представляют собой количественные характеристики, кодирование не требуется. Так как целевых признаков два и корреляция между ними меньше 0,5 будем решать две задачи не учитывая зависимость между целевыми признаками. В датасете встречаются дубликаты данных, которые могут внести разлад в работу алгоритмов. Предполагаем, что дубликаты появились ввиду повторения ряда итераций для поиска отклонений величины глубины и ширины сварного шва при определенном режиме сварки. В связи с этим, а также ввиду малой размерности датасета, было принято решение дубли не удалять.\n",
    "2. Данные представляют собой вещественные и натуральные числа. Приведены к одному типу данных.\n",
    "3. Данные не подчиняются нормальному распределению. Перед подачей в обучаемую модель необходимо провести стандартизацию данных.\n",
    "4. В датасете отсутствуют пропуски.\n",
    "5. По графикам ***\\\"ящик с усами\\\"*** видно, что в признаках **\"Скорость сварки\"**, **\"Расстояние от поверхности образцов до электронно-оптической системы\"**, **\"Глубина шва\"** и **\"Ширина шва\"** присутствуют выбросы. В данном примере не будем удалять выбросы в связи с малой размерностью датасета и отсутствием понимания, действительно ли данные значения являются выбросами или же эти значения обусловленны с точки зрения технологии сварки.\n",
    "6. Данная задача является задачей регрессии. На вход подаются вещественные значения, на выходе мы также получим число. Исходя из этого решаем задачу методами регрессионного анализа.\n",
    "7. С учетом того, что парметр **\"Ток фокусировки электронного пучка**\" очень сильно корррелирует с параметрами **\"Расстояние от поверхности образцов до электронно-оптической системы\"** и **\"Скорость сварки\"** для исключения переобучения модели данные параметры при формировании датафрейма для решения задачи определения ширины шва можно исключить. Набор ключевых признаков для датафрейма поиска ширины шва - **\"Ток фокусировки электронного пучка\"** и **\"Скорость сварки\"**. В свою очередь, набор ключевых признаков для формирования датафрейма поиска глубины шва - **\"Скорость сварки\"**, **\"Ток фокусировки электронного пучка\"** и **\"Величина сварочного тока\"**. "
   ]
  },
  {
   "cell_type": "markdown",
   "id": "4f3f5c0e",
   "metadata": {},
   "source": [
    "# Разделим датасет согласно выводам на два датафрейма и проведем стандартизацию"
   ]
  },
  {
   "cell_type": "markdown",
   "id": "78842afc",
   "metadata": {},
   "source": [
    "### Ширина"
   ]
  },
  {
   "cell_type": "code",
   "execution_count": 24,
   "id": "13dea893",
   "metadata": {},
   "outputs": [],
   "source": [
    "s_target_width=[\"Width\"]\n",
    "s_influencing_width=[\"IF\",\"VW\"]"
   ]
  },
  {
   "cell_type": "code",
   "execution_count": 25,
   "id": "bf0216b7",
   "metadata": {},
   "outputs": [],
   "source": [
    "y_width=df_start.loc[:,s_target_width]\n",
    "x_width=df_start.loc[:,s_influencing_width]"
   ]
  },
  {
   "cell_type": "markdown",
   "id": "3cfcf0f8",
   "metadata": {},
   "source": [
    "### Глубина"
   ]
  },
  {
   "cell_type": "code",
   "execution_count": 26,
   "id": "db862a0b",
   "metadata": {},
   "outputs": [],
   "source": [
    "s_target_depth=[\"Depth\"]\n",
    "s_influencing_depth=[\"IW\",\"VW\",\"IF\"]"
   ]
  },
  {
   "cell_type": "code",
   "execution_count": 27,
   "id": "5e1c27f5",
   "metadata": {},
   "outputs": [],
   "source": [
    "y_depth=df_start.loc[:,s_target_depth]\n",
    "x_depth=df_start.loc[:,s_influencing_depth]"
   ]
  },
  {
   "cell_type": "markdown",
   "id": "ebddeeb2",
   "metadata": {},
   "source": [
    "### Препроцессинг"
   ]
  },
  {
   "cell_type": "code",
   "execution_count": 28,
   "id": "1ead32cb",
   "metadata": {},
   "outputs": [],
   "source": [
    "s_influencing_transformer_width=Pipeline(steps=[\n",
    "    (\"scaler\",StandardScaler())])\n",
    "prp_width=ColumnTransformer(transformers=[(\"num\",s_influencing_transformer_width,s_influencing_width)])\n",
    "clf_width=Pipeline(steps=[(\"prp\",prp_width)])"
   ]
  },
  {
   "cell_type": "code",
   "execution_count": 29,
   "id": "ef433f0f",
   "metadata": {},
   "outputs": [],
   "source": [
    "s_influencing_transformer_depth=Pipeline(steps=[\n",
    "    (\"scaler\",StandardScaler())])\n",
    "prp_depth=ColumnTransformer(transformers=[(\"num\",s_influencing_transformer_depth,s_influencing_depth)])\n",
    "clf_depth=Pipeline(steps=[(\"prp\",prp_depth)])"
   ]
  },
  {
   "cell_type": "markdown",
   "id": "7b1d2963",
   "metadata": {},
   "source": [
    "### Функция кросс-валидации"
   ]
  },
  {
   "cell_type": "code",
   "execution_count": 30,
   "id": "47d46dbb",
   "metadata": {},
   "outputs": [],
   "source": [
    "RS=42"
   ]
  },
  {
   "cell_type": "code",
   "execution_count": 31,
   "id": "717472df",
   "metadata": {},
   "outputs": [],
   "source": [
    "def run_cv_for_models(models, x, y):\n",
    "    stat = pd.DataFrame()\n",
    "    cv = KFold(3, shuffle=True, random_state=RS)\n",
    "    scoring = [\"r2\", \n",
    "                \"neg_root_mean_squared_error\"]\n",
    "    for model_name, model in models.items():\n",
    "        scores = cross_validate(model, x, y, cv=cv, scoring=scoring)\n",
    "        stat.loc[model_name, \"R2\"] = scores[\"test_r2\"].mean()\n",
    "        stat.loc[model_name, \"RMSE\"] = scores[\"test_neg_root_mean_squared_error\"].mean()\n",
    "    return stat"
   ]
  },
  {
   "cell_type": "markdown",
   "id": "6056c0f3",
   "metadata": {},
   "source": [
    "### Функция сетки поиска для подбора гипперпараметров"
   ]
  },
  {
   "cell_type": "code",
   "execution_count": 32,
   "id": "0349f3f0",
   "metadata": {},
   "outputs": [],
   "source": [
    "def run_grid_search_optimiser(model, params, x, y):\n",
    "    pd.options.display.max_colwidth = 150\n",
    "    stat = pd.DataFrame()\n",
    "    cv = KFold(3, shuffle=True, random_state=RS)\n",
    "    # scoring = 'neg_root_mean_squared_error'\n",
    "    scoring = \"neg_root_mean_squared_error\"\n",
    "    searcher = GridSearchCV(model, params, cv=cv, scoring=scoring)\n",
    "    searcher.fit(x, y)\n",
    "    stat.loc[:, \"params\"] = searcher.cv_results_[\"params\"]\n",
    "    stat.loc[:, \"RMSE\"] = searcher.cv_results_[\"mean_test_score\"]\n",
    "   # stat.loc[:, \"rank\"] = searcher.cv_results_[\"rank_test_score\"]\n",
    "    return stat, searcher.best_estimator_,searcher.best_params_"
   ]
  },
  {
   "cell_type": "markdown",
   "id": "a09ef769",
   "metadata": {},
   "source": [
    "### Функция вывода метрик для сравнения"
   ]
  },
  {
   "cell_type": "code",
   "execution_count": 33,
   "id": "0d92e45b",
   "metadata": {},
   "outputs": [],
   "source": [
    "def analitics(base_model, opt_model, y_test, y_predict_base,y_predict_opt):\n",
    "    count_base_r2=metrics.r2_score(y_test, y_predict_base)\n",
    "    count_opt_r2=metrics.r2_score(y_test, y_predict_opt)\n",
    "    count_base_rmse=metrics.mean_squared_error(y_test, y_predict_base)*-1\n",
    "    count_opt_rmse=metrics.mean_squared_error(y_test, y_predict_opt)*-1\n",
    "    dict_stat={\n",
    "        \"R2\":pd.Series([count_base_r2,count_opt_r2],index=[base_model,opt_model]),\n",
    "        \"RMSE\":pd.Series([count_base_rmse,count_opt_rmse],index=[base_model,opt_model])\n",
    "    }\n",
    "    df_stat=pd.DataFrame(dict_stat)\n",
    "    return df_stat.style.highlight_max(axis=0)"
   ]
  },
  {
   "cell_type": "markdown",
   "id": "66c9a032",
   "metadata": {},
   "source": [
    "### Функция построения графика проверки на переобучение"
   ]
  },
  {
   "cell_type": "code",
   "execution_count": 34,
   "id": "8d92bfa9",
   "metadata": {},
   "outputs": [],
   "source": [
    "def val_curve(train_score,test_score,model,param_name):\n",
    "    mean_train_score = np.mean(train_score, axis = 1)\n",
    "    std_train_score = np.std(train_score, axis = 1)\n",
    "    mean_test_score = np.mean(test_score, axis = 1)\n",
    "    std_test_score = np.std(test_score, axis = 1)\n",
    "    plt.plot(parameter_range, mean_train_score,\n",
    "        label = \"Training Score\", color = 'b')\n",
    "    plt.plot(parameter_range, mean_test_score,\n",
    "        label = \"Validation Score\", color = 'g')\n",
    "    plt.title(model)\n",
    "    plt.xlabel(param_name)\n",
    "    plt.ylabel(\"R2 metrics\")\n",
    "    plt.tight_layout()\n",
    "    plt.legend(loc = 'best')\n",
    "    plt.show()"
   ]
  },
  {
   "cell_type": "markdown",
   "id": "54883fb9",
   "metadata": {},
   "source": [
    "# Решение первой задачи - ширина"
   ]
  },
  {
   "cell_type": "markdown",
   "id": "6af85f55",
   "metadata": {},
   "source": [
    "## Алгоритмы из библиотеки SKlearn"
   ]
  },
  {
   "cell_type": "markdown",
   "id": "e8d41df1",
   "metadata": {},
   "source": [
    "### Разделение выборки"
   ]
  },
  {
   "cell_type": "code",
   "execution_count": 35,
   "id": "78600614",
   "metadata": {},
   "outputs": [],
   "source": [
    "x_train_to_prp_width,x_test_to_prp_width,y_train_to_prp_width,y_test_to_prp_width=train_test_split(x_width,y_width,test_size=0.1,random_state=RS)"
   ]
  },
  {
   "cell_type": "code",
   "execution_count": 36,
   "id": "37806781",
   "metadata": {},
   "outputs": [],
   "source": [
    "x_train_width=clf_width.fit_transform(x_train_to_prp_width)\n",
    "x_test_width=clf_width.transform(x_test_to_prp_width)"
   ]
  },
  {
   "cell_type": "code",
   "execution_count": 37,
   "id": "8f6cd246",
   "metadata": {},
   "outputs": [],
   "source": [
    "y_train_width=y_train_to_prp_width[\"Width\"].values\n",
    "y_test_width=y_test_to_prp_width[\"Width\"].values"
   ]
  },
  {
   "cell_type": "markdown",
   "id": "d79b713a",
   "metadata": {},
   "source": [
    "### Сравнение метрик моделей с дефолтными гипперпараметрами"
   ]
  },
  {
   "cell_type": "code",
   "execution_count": 38,
   "id": "271b27b5",
   "metadata": {},
   "outputs": [
    {
     "data": {
      "text/html": [
       "<style type=\"text/css\">\n",
       "#T_09c60_row1_col0, #T_09c60_row1_col1 {\n",
       "  background-color: yellow;\n",
       "}\n",
       "</style>\n",
       "<table id=\"T_09c60_\">\n",
       "  <thead>\n",
       "    <tr>\n",
       "      <th class=\"blank level0\" >&nbsp;</th>\n",
       "      <th class=\"col_heading level0 col0\" >R2</th>\n",
       "      <th class=\"col_heading level0 col1\" >RMSE</th>\n",
       "    </tr>\n",
       "  </thead>\n",
       "  <tbody>\n",
       "    <tr>\n",
       "      <th id=\"T_09c60_level0_row0\" class=\"row_heading level0 row0\" >DummyRegressor</th>\n",
       "      <td id=\"T_09c60_row0_col0\" class=\"data row0 col0\" >-0.047188</td>\n",
       "      <td id=\"T_09c60_row0_col1\" class=\"data row0 col1\" >-0.263312</td>\n",
       "    </tr>\n",
       "    <tr>\n",
       "      <th id=\"T_09c60_level0_row1\" class=\"row_heading level0 row1\" >Ridge</th>\n",
       "      <td id=\"T_09c60_row1_col0\" class=\"data row1 col0\" >0.891438</td>\n",
       "      <td id=\"T_09c60_row1_col1\" class=\"data row1 col1\" >-0.080657</td>\n",
       "    </tr>\n",
       "    <tr>\n",
       "      <th id=\"T_09c60_level0_row2\" class=\"row_heading level0 row2\" >Lasso</th>\n",
       "      <td id=\"T_09c60_row2_col0\" class=\"data row2 col0\" >-0.047188</td>\n",
       "      <td id=\"T_09c60_row2_col1\" class=\"data row2 col1\" >-0.263312</td>\n",
       "    </tr>\n",
       "    <tr>\n",
       "      <th id=\"T_09c60_level0_row3\" class=\"row_heading level0 row3\" >SVR</th>\n",
       "      <td id=\"T_09c60_row3_col0\" class=\"data row3 col0\" >0.880143</td>\n",
       "      <td id=\"T_09c60_row3_col1\" class=\"data row3 col1\" >-0.083962</td>\n",
       "    </tr>\n",
       "    <tr>\n",
       "      <th id=\"T_09c60_level0_row4\" class=\"row_heading level0 row4\" >KNeighborsRegressor</th>\n",
       "      <td id=\"T_09c60_row4_col0\" class=\"data row4 col0\" >0.832729</td>\n",
       "      <td id=\"T_09c60_row4_col1\" class=\"data row4 col1\" >-0.104455</td>\n",
       "    </tr>\n",
       "    <tr>\n",
       "      <th id=\"T_09c60_level0_row5\" class=\"row_heading level0 row5\" >DecisionTreeRegressor</th>\n",
       "      <td id=\"T_09c60_row5_col0\" class=\"data row5 col0\" >0.548956</td>\n",
       "      <td id=\"T_09c60_row5_col1\" class=\"data row5 col1\" >-0.169723</td>\n",
       "    </tr>\n",
       "    <tr>\n",
       "      <th id=\"T_09c60_level0_row6\" class=\"row_heading level0 row6\" >RandomForestRegressor</th>\n",
       "      <td id=\"T_09c60_row6_col0\" class=\"data row6 col0\" >0.742434</td>\n",
       "      <td id=\"T_09c60_row6_col1\" class=\"data row6 col1\" >-0.129595</td>\n",
       "    </tr>\n",
       "  </tbody>\n",
       "</table>\n"
      ],
      "text/plain": [
       "<pandas.io.formats.style.Styler at 0x236aca60e20>"
      ]
     },
     "execution_count": 38,
     "metadata": {},
     "output_type": "execute_result"
    }
   ],
   "source": [
    "dict_models_width = {\n",
    "    \"DummyRegressor\": DummyRegressor(strategy=\"mean\"),\n",
    "    \"Ridge\": Ridge(),\n",
    "    \"Lasso\": Lasso(),\n",
    "    \"SVR\": SVR(),\n",
    "    \"KNeighborsRegressor\": KNeighborsRegressor(),\n",
    "    \"DecisionTreeRegressor\": DecisionTreeRegressor(random_state=RS),\n",
    "    \"RandomForestRegressor\": RandomForestRegressor(random_state=RS)\n",
    "}\n",
    "\n",
    "stat_width = run_cv_for_models(dict_models_width, x_train_width, y_train_width)\n",
    "stat_width.style.highlight_max(axis=0)"
   ]
  },
  {
   "cell_type": "markdown",
   "id": "701821c5",
   "metadata": {},
   "source": [
    "### Подбор гипперпараметров"
   ]
  },
  {
   "cell_type": "code",
   "execution_count": 39,
   "id": "14a251aa",
   "metadata": {},
   "outputs": [],
   "source": [
    "dict_search_model_width={}"
   ]
  },
  {
   "cell_type": "markdown",
   "id": "01137110",
   "metadata": {},
   "source": [
    "#### ***Ridge***"
   ]
  },
  {
   "cell_type": "code",
   "execution_count": 40,
   "id": "6acce820",
   "metadata": {},
   "outputs": [
    {
     "data": {
      "text/plain": [
       "{'alpha': 0.001, 'solver': 'sag'}"
      ]
     },
     "execution_count": 40,
     "metadata": {},
     "output_type": "execute_result"
    }
   ],
   "source": [
    "params_width = [\n",
    "  {\n",
    "    \"solver\": [\"auto\", \"svd\", \"cholesky\", \"lsqr\", \"sparse_cg\", \"sag\", \"saga\", \"lbfgs\"],\n",
    "    \"alpha\": np.linspace(0.001, 5, 200)\n",
    "  },           \n",
    "  {\n",
    "    \"solver\": [\"lbfgs\"],\n",
    "    \"alpha\": np.linspace(0.001, 5, 200),\n",
    "    \"positive\": [True]\n",
    "  }\n",
    "]\n",
    "search, search_option_model,best_params = run_grid_search_optimiser(Ridge(), params_width, x_train_width, y_train_width)\n",
    "dict_search_model_width[str(search_option_model)] = search_option_model\n",
    "best_params"
   ]
  },
  {
   "cell_type": "markdown",
   "id": "b5fb01ad",
   "metadata": {},
   "source": [
    "#### ***Lasso***"
   ]
  },
  {
   "cell_type": "code",
   "execution_count": 41,
   "id": "daeaedeb",
   "metadata": {},
   "outputs": [
    {
     "data": {
      "text/plain": [
       "{'alpha': 0.001}"
      ]
     },
     "execution_count": 41,
     "metadata": {},
     "output_type": "execute_result"
    }
   ],
   "source": [
    "params_width = {\n",
    "    \"alpha\": np.linspace(0.001, 5, 200)\n",
    "  }\n",
    "search, search_option_model,best_params = run_grid_search_optimiser(Lasso(), params_width, x_train_width, y_train_width)\n",
    "dict_search_model_width[str(search_option_model)] = search_option_model\n",
    "best_params"
   ]
  },
  {
   "cell_type": "markdown",
   "id": "991d6d9a",
   "metadata": {},
   "source": [
    "#### ***SVR***"
   ]
  },
  {
   "cell_type": "code",
   "execution_count": 42,
   "id": "d95b0bb4",
   "metadata": {},
   "outputs": [
    {
     "data": {
      "text/plain": [
       "{'C': 3.8444522613065324, 'kernel': 'poly'}"
      ]
     },
     "execution_count": 42,
     "metadata": {},
     "output_type": "execute_result"
    }
   ],
   "source": [
    "params_width = [       \n",
    "    {\n",
    "      \"kernel\": [\"linear\"],\n",
    "      \"C\": np.linspace(0.001, 5, 200)\n",
    "    },\n",
    "    {\n",
    "      \"kernel\": [\"poly\"],\n",
    "      \"C\": np.linspace(0.001, 5, 200)\n",
    "    },\n",
    "    {\n",
    "      \"kernel\": [\"rbf\"],\n",
    "      \"C\": np.linspace(0.001, 5, 200)\n",
    "    },\n",
    "    {\n",
    "      \"kernel\": [\"sigmoid\"],\n",
    "      \"C\": np.linspace(0.001, 5, 200)\n",
    "    }\n",
    "]\n",
    "search, search_option_model,best_params = run_grid_search_optimiser(SVR(), params_width, x_train_width, y_train_width)\n",
    "dict_search_model_width[str(search_option_model)] = search_option_model\n",
    "best_params"
   ]
  },
  {
   "cell_type": "markdown",
   "id": "1a8d5b65",
   "metadata": {},
   "source": [
    "#### ***KNeighborsRegressor***"
   ]
  },
  {
   "cell_type": "code",
   "execution_count": 43,
   "id": "4651bb38",
   "metadata": {},
   "outputs": [
    {
     "data": {
      "text/plain": [
       "{'n_neighbors': 3}"
      ]
     },
     "execution_count": 43,
     "metadata": {},
     "output_type": "execute_result"
    }
   ],
   "source": [
    "params_width = {\n",
    "      \"n_neighbors\": range(1, 21, 2)\n",
    "    }\n",
    "search, search_option_model,best_params = run_grid_search_optimiser(KNeighborsRegressor(), params_width, x_train_width, y_train_width)\n",
    "dict_search_model_width[str(search_option_model)] = search_option_model\n",
    "best_params"
   ]
  },
  {
   "cell_type": "markdown",
   "id": "6fcba867",
   "metadata": {},
   "source": [
    "#### ***DecisionTreeRegressor***"
   ]
  },
  {
   "cell_type": "code",
   "execution_count": 44,
   "id": "35ed8eaf",
   "metadata": {},
   "outputs": [
    {
     "data": {
      "text/plain": [
       "{'max_depth': 6,\n",
       " 'min_samples_leaf': 2,\n",
       " 'min_samples_split': 2,\n",
       " 'random_state': 42}"
      ]
     },
     "execution_count": 44,
     "metadata": {},
     "output_type": "execute_result"
    }
   ],
   "source": [
    "params_width = {\n",
    "    \"random_state\": [RS],\n",
    "    \"max_depth\": range(1, 11, 1),\n",
    "    \"min_samples_split\": range(2, 5, 1),\n",
    "    \"min_samples_leaf\": range(2, 5, 1),\n",
    "}\n",
    "search, search_option_model,best_params = run_grid_search_optimiser(DecisionTreeRegressor(), params_width, x_train_width, y_train_width)\n",
    "dict_search_model_width[str(search_option_model)] = search_option_model\n",
    "best_params"
   ]
  },
  {
   "cell_type": "markdown",
   "id": "0d3bcacc",
   "metadata": {},
   "source": [
    "#### ***RandomForestRegressor***"
   ]
  },
  {
   "cell_type": "code",
   "execution_count": 45,
   "id": "feb6e4e5",
   "metadata": {},
   "outputs": [
    {
     "data": {
      "text/plain": [
       "{'max_depth': 7,\n",
       " 'min_samples_leaf': 2,\n",
       " 'min_samples_split': 2,\n",
       " 'n_estimators': 90,\n",
       " 'random_state': 42}"
      ]
     },
     "execution_count": 45,
     "metadata": {},
     "output_type": "execute_result"
    }
   ],
   "source": [
    "params_width = {\n",
    "    \"random_state\": [RS],\n",
    "    \"n_estimators\": range(50, 100, 10),\n",
    "    \"max_depth\": range(1, 11, 1),\n",
    "    \"min_samples_split\": range(2, 5, 1),\n",
    "    \"min_samples_leaf\": range(2, 5, 1),\n",
    "}\n",
    "search, search_option_model,best_params = run_grid_search_optimiser(RandomForestRegressor(), params_width, x_train_width, y_train_width)\n",
    "dict_search_model_width[str(search_option_model)] = search_option_model\n",
    "best_params"
   ]
  },
  {
   "cell_type": "code",
   "execution_count": 46,
   "id": "63f83524",
   "metadata": {},
   "outputs": [
    {
     "data": {
      "text/html": [
       "<style type=\"text/css\">\n",
       "#T_a6f1c_row3_col0, #T_a6f1c_row3_col1 {\n",
       "  background-color: yellow;\n",
       "}\n",
       "</style>\n",
       "<table id=\"T_a6f1c_\">\n",
       "  <thead>\n",
       "    <tr>\n",
       "      <th class=\"blank level0\" >&nbsp;</th>\n",
       "      <th class=\"col_heading level0 col0\" >R2</th>\n",
       "      <th class=\"col_heading level0 col1\" >RMSE</th>\n",
       "    </tr>\n",
       "  </thead>\n",
       "  <tbody>\n",
       "    <tr>\n",
       "      <th id=\"T_a6f1c_level0_row0\" class=\"row_heading level0 row0\" >Ridge(alpha=0.001, solver='sag')</th>\n",
       "      <td id=\"T_a6f1c_row0_col0\" class=\"data row0 col0\" >0.890953</td>\n",
       "      <td id=\"T_a6f1c_row0_col1\" class=\"data row0 col1\" >-0.079837</td>\n",
       "    </tr>\n",
       "    <tr>\n",
       "      <th id=\"T_a6f1c_level0_row1\" class=\"row_heading level0 row1\" >Lasso(alpha=0.001)</th>\n",
       "      <td id=\"T_a6f1c_row1_col0\" class=\"data row1 col0\" >0.891146</td>\n",
       "      <td id=\"T_a6f1c_row1_col1\" class=\"data row1 col1\" >-0.079997</td>\n",
       "    </tr>\n",
       "    <tr>\n",
       "      <th id=\"T_a6f1c_level0_row2\" class=\"row_heading level0 row2\" >SVR(C=3.8444522613065324, kernel='poly')</th>\n",
       "      <td id=\"T_a6f1c_row2_col0\" class=\"data row2 col0\" >0.892201</td>\n",
       "      <td id=\"T_a6f1c_row2_col1\" class=\"data row2 col1\" >-0.078314</td>\n",
       "    </tr>\n",
       "    <tr>\n",
       "      <th id=\"T_a6f1c_level0_row3\" class=\"row_heading level0 row3\" >KNeighborsRegressor(n_neighbors=3)</th>\n",
       "      <td id=\"T_a6f1c_row3_col0\" class=\"data row3 col0\" >0.894561</td>\n",
       "      <td id=\"T_a6f1c_row3_col1\" class=\"data row3 col1\" >-0.072117</td>\n",
       "    </tr>\n",
       "    <tr>\n",
       "      <th id=\"T_a6f1c_level0_row4\" class=\"row_heading level0 row4\" >DecisionTreeRegressor(max_depth=6, min_samples_leaf=2, random_state=42)</th>\n",
       "      <td id=\"T_a6f1c_row4_col0\" class=\"data row4 col0\" >0.546524</td>\n",
       "      <td id=\"T_a6f1c_row4_col1\" class=\"data row4 col1\" >-0.169849</td>\n",
       "    </tr>\n",
       "    <tr>\n",
       "      <th id=\"T_a6f1c_level0_row5\" class=\"row_heading level0 row5\" >RandomForestRegressor(max_depth=7, min_samples_leaf=2, n_estimators=90,\n",
       "                      random_state=42)</th>\n",
       "      <td id=\"T_a6f1c_row5_col0\" class=\"data row5 col0\" >0.676658</td>\n",
       "      <td id=\"T_a6f1c_row5_col1\" class=\"data row5 col1\" >-0.144400</td>\n",
       "    </tr>\n",
       "  </tbody>\n",
       "</table>\n"
      ],
      "text/plain": [
       "<pandas.io.formats.style.Styler at 0x236aca60a60>"
      ]
     },
     "execution_count": 46,
     "metadata": {},
     "output_type": "execute_result"
    }
   ],
   "source": [
    "stat_width = run_cv_for_models(dict_search_model_width, x_train_width, y_train_width)\n",
    "stat_width.style.highlight_max(axis=0)"
   ]
  },
  {
   "cell_type": "markdown",
   "id": "0a514c55",
   "metadata": {},
   "source": [
    "### Предсказание лучшей модели с дефолтными параметрами"
   ]
  },
  {
   "cell_type": "code",
   "execution_count": 47,
   "id": "b9df130d",
   "metadata": {},
   "outputs": [],
   "source": [
    "best_model_base_params_width=Ridge()\n",
    "best_model_base_params_width.fit(x_train_width,y_train_width)\n",
    "y_predict_base_width=best_model_base_params_width.predict(x_test_width)"
   ]
  },
  {
   "cell_type": "markdown",
   "id": "8f2d932d",
   "metadata": {},
   "source": [
    "### Предсказание лучшей модели с подобранными гипперпараметрами"
   ]
  },
  {
   "cell_type": "code",
   "execution_count": 48,
   "id": "2d859eb1",
   "metadata": {},
   "outputs": [],
   "source": [
    "best_model_optimal_params_width=KNeighborsRegressor(n_neighbors=3)\n",
    "best_model_optimal_params_width.fit(x_train_width,y_train_width)\n",
    "y_predict_optimal_width=best_model_optimal_params_width.predict(x_test_width)"
   ]
  },
  {
   "cell_type": "markdown",
   "id": "36874f6a",
   "metadata": {},
   "source": [
    "### Сравнение точности предсказания лучшей модели с дефолтными гипперпараметрами с лучшей моделью с подобранными гипперпараметрами по метрикам"
   ]
  },
  {
   "cell_type": "code",
   "execution_count": 49,
   "id": "b68f23ad",
   "metadata": {
    "scrolled": true
   },
   "outputs": [
    {
     "data": {
      "text/html": [
       "<style type=\"text/css\">\n",
       "#T_8190d_row1_col0, #T_8190d_row1_col1 {\n",
       "  background-color: yellow;\n",
       "}\n",
       "</style>\n",
       "<table id=\"T_8190d_\">\n",
       "  <thead>\n",
       "    <tr>\n",
       "      <th class=\"blank level0\" >&nbsp;</th>\n",
       "      <th class=\"col_heading level0 col0\" >R2</th>\n",
       "      <th class=\"col_heading level0 col1\" >RMSE</th>\n",
       "    </tr>\n",
       "  </thead>\n",
       "  <tbody>\n",
       "    <tr>\n",
       "      <th id=\"T_8190d_level0_row0\" class=\"row_heading level0 row0\" >Ridge()</th>\n",
       "      <td id=\"T_8190d_row0_col0\" class=\"data row0 col0\" >0.956554</td>\n",
       "      <td id=\"T_8190d_row0_col1\" class=\"data row0 col1\" >-0.004536</td>\n",
       "    </tr>\n",
       "    <tr>\n",
       "      <th id=\"T_8190d_level0_row1\" class=\"row_heading level0 row1\" >KNeighborsRegressor(n_neighbors=3)</th>\n",
       "      <td id=\"T_8190d_row1_col0\" class=\"data row1 col0\" >0.978023</td>\n",
       "      <td id=\"T_8190d_row1_col1\" class=\"data row1 col1\" >-0.002294</td>\n",
       "    </tr>\n",
       "  </tbody>\n",
       "</table>\n"
      ],
      "text/plain": [
       "<pandas.io.formats.style.Styler at 0x236adee65e0>"
      ]
     },
     "execution_count": 49,
     "metadata": {},
     "output_type": "execute_result"
    }
   ],
   "source": [
    "analitics(best_model_base_params_width,best_model_optimal_params_width,y_test_width,y_predict_base_width,y_predict_optimal_width)"
   ]
  },
  {
   "cell_type": "markdown",
   "id": "34259874",
   "metadata": {},
   "source": [
    "### Проверка на переобучение"
   ]
  },
  {
   "cell_type": "code",
   "execution_count": 50,
   "id": "ef92a419",
   "metadata": {},
   "outputs": [
    {
     "data": {
      "image/png": "[encoded data removed]",
      "text/plain": [
       "<Figure size 432x288 with 1 Axes>"
      ]
     },
     "metadata": {},
     "output_type": "display_data"
    }
   ],
   "source": [
    "parameter_range = range(1, 21, 2)\n",
    "train_score, test_score = validation_curve(KNeighborsRegressor(), x_train_width, y_train_width,\n",
    "                                       param_name = \"n_neighbors\",\n",
    "                                       param_range = parameter_range,\n",
    "                                        cv = 3, scoring = \"r2\")\n",
    "val_curve(train_score,test_score,\"KNeighborsRegressor\",\"n_neighbors\")"
   ]
  },
  {
   "cell_type": "markdown",
   "id": "906853e3",
   "metadata": {},
   "source": [
    "#### Исходя из графика делаем вывод, что модель не переобучена"
   ]
  },
  {
   "cell_type": "markdown",
   "id": "10f89d83",
   "metadata": {},
   "source": [
    "## Нейросеть"
   ]
  },
  {
   "cell_type": "markdown",
   "id": "3d85fd4e",
   "metadata": {},
   "source": [
    "### Размерность входа"
   ]
  },
  {
   "cell_type": "code",
   "execution_count": 51,
   "id": "a9799207",
   "metadata": {},
   "outputs": [],
   "source": [
    "n_influencing_width=x_train_width.shape[1]"
   ]
  },
  {
   "cell_type": "markdown",
   "id": "5580f7b1",
   "metadata": {},
   "source": [
    "### Архитектура НС"
   ]
  },
  {
   "cell_type": "code",
   "execution_count": 52,
   "id": "39e5f32d",
   "metadata": {},
   "outputs": [],
   "source": [
    "model_nn_width=Sequential()\n",
    "model_nn_width.add(Dense(128,activation=\"relu\",input_shape=(n_influencing_width,)))\n",
    "model_nn_width.add(Dense(1,activation=\"relu\"))\n"
   ]
  },
  {
   "cell_type": "markdown",
   "id": "b171bc9d",
   "metadata": {},
   "source": [
    "### Компиляция модели"
   ]
  },
  {
   "cell_type": "code",
   "execution_count": 53,
   "id": "57ac8d49",
   "metadata": {},
   "outputs": [],
   "source": [
    "model_nn_width.compile(optimizer=\"adam\",loss=\"mean_squared_error\",metrics=[tf.keras.metrics.RootMeanSquaredError()])"
   ]
  },
  {
   "cell_type": "markdown",
   "id": "ce06ae92",
   "metadata": {},
   "source": [
    "### Обучение"
   ]
  },
  {
   "cell_type": "code",
   "execution_count": 54,
   "id": "b124a508",
   "metadata": {
    "scrolled": false
   },
   "outputs": [
    {
     "name": "stdout",
     "output_type": "stream",
     "text": [
      "Epoch 1/50\n",
      "8/8 [==============================] - 0s 18ms/step - loss: 3.8059 - root_mean_squared_error: 1.9509 - val_loss: 4.0630 - val_root_mean_squared_error: 2.0157\n",
      "Epoch 2/50\n",
      "8/8 [==============================] - 0s 4ms/step - loss: 3.5886 - root_mean_squared_error: 1.8944 - val_loss: 3.6271 - val_root_mean_squared_error: 1.9045\n",
      "Epoch 3/50\n",
      "8/8 [==============================] - 0s 3ms/step - loss: 3.3615 - root_mean_squared_error: 1.8334 - val_loss: 3.1602 - val_root_mean_squared_error: 1.7777\n",
      "Epoch 4/50\n",
      "8/8 [==============================] - 0s 3ms/step - loss: 3.0658 - root_mean_squared_error: 1.7509 - val_loss: 2.6919 - val_root_mean_squared_error: 1.6407\n",
      "Epoch 5/50\n",
      "8/8 [==============================] - 0s 3ms/step - loss: 2.7852 - root_mean_squared_error: 1.6689 - val_loss: 2.2680 - val_root_mean_squared_error: 1.5060\n",
      "Epoch 6/50\n",
      "8/8 [==============================] - 0s 4ms/step - loss: 2.4881 - root_mean_squared_error: 1.5774 - val_loss: 1.8571 - val_root_mean_squared_error: 1.3627\n",
      "Epoch 7/50\n",
      "8/8 [==============================] - 0s 4ms/step - loss: 2.1595 - root_mean_squared_error: 1.4695 - val_loss: 1.5265 - val_root_mean_squared_error: 1.2355\n",
      "Epoch 8/50\n",
      "8/8 [==============================] - 0s 3ms/step - loss: 1.7727 - root_mean_squared_error: 1.3314 - val_loss: 1.1563 - val_root_mean_squared_error: 1.0753\n",
      "Epoch 9/50\n",
      "8/8 [==============================] - 0s 3ms/step - loss: 1.3209 - root_mean_squared_error: 1.1493 - val_loss: 0.8389 - val_root_mean_squared_error: 0.9159\n",
      "Epoch 10/50\n",
      "8/8 [==============================] - 0s 3ms/step - loss: 0.9303 - root_mean_squared_error: 0.9645 - val_loss: 0.6017 - val_root_mean_squared_error: 0.7757\n",
      "Epoch 11/50\n",
      "8/8 [==============================] - 0s 3ms/step - loss: 0.6312 - root_mean_squared_error: 0.7945 - val_loss: 0.4321 - val_root_mean_squared_error: 0.6573\n",
      "Epoch 12/50\n",
      "8/8 [==============================] - 0s 3ms/step - loss: 0.4199 - root_mean_squared_error: 0.6480 - val_loss: 0.3125 - val_root_mean_squared_error: 0.5590\n",
      "Epoch 13/50\n",
      "8/8 [==============================] - 0s 3ms/step - loss: 0.2812 - root_mean_squared_error: 0.5303 - val_loss: 0.2288 - val_root_mean_squared_error: 0.4783\n",
      "Epoch 14/50\n",
      "8/8 [==============================] - 0s 3ms/step - loss: 0.1848 - root_mean_squared_error: 0.4299 - val_loss: 0.1723 - val_root_mean_squared_error: 0.4151\n",
      "Epoch 15/50\n",
      "8/8 [==============================] - 0s 3ms/step - loss: 0.1315 - root_mean_squared_error: 0.3627 - val_loss: 0.1335 - val_root_mean_squared_error: 0.3653\n",
      "Epoch 16/50\n",
      "8/8 [==============================] - 0s 3ms/step - loss: 0.1029 - root_mean_squared_error: 0.3208 - val_loss: 0.1072 - val_root_mean_squared_error: 0.3274\n",
      "Epoch 17/50\n",
      "8/8 [==============================] - 0s 4ms/step - loss: 0.0870 - root_mean_squared_error: 0.2950 - val_loss: 0.0908 - val_root_mean_squared_error: 0.3013\n",
      "Epoch 18/50\n",
      "8/8 [==============================] - 0s 3ms/step - loss: 0.0785 - root_mean_squared_error: 0.2802 - val_loss: 0.0805 - val_root_mean_squared_error: 0.2837\n",
      "Epoch 19/50\n",
      "8/8 [==============================] - 0s 3ms/step - loss: 0.0731 - root_mean_squared_error: 0.2703 - val_loss: 0.0738 - val_root_mean_squared_error: 0.2717\n",
      "Epoch 20/50\n",
      "8/8 [==============================] - 0s 3ms/step - loss: 0.0693 - root_mean_squared_error: 0.2632 - val_loss: 0.0690 - val_root_mean_squared_error: 0.2626\n",
      "Epoch 21/50\n",
      "8/8 [==============================] - 0s 3ms/step - loss: 0.0657 - root_mean_squared_error: 0.2563 - val_loss: 0.0654 - val_root_mean_squared_error: 0.2557\n",
      "Epoch 22/50\n",
      "8/8 [==============================] - 0s 4ms/step - loss: 0.0628 - root_mean_squared_error: 0.2506 - val_loss: 0.0628 - val_root_mean_squared_error: 0.2506\n",
      "Epoch 23/50\n",
      "8/8 [==============================] - 0s 3ms/step - loss: 0.0595 - root_mean_squared_error: 0.2440 - val_loss: 0.0602 - val_root_mean_squared_error: 0.2454\n",
      "Epoch 24/50\n",
      "8/8 [==============================] - 0s 3ms/step - loss: 0.0564 - root_mean_squared_error: 0.2374 - val_loss: 0.0573 - val_root_mean_squared_error: 0.2393\n",
      "Epoch 25/50\n",
      "8/8 [==============================] - 0s 4ms/step - loss: 0.0535 - root_mean_squared_error: 0.2313 - val_loss: 0.0542 - val_root_mean_squared_error: 0.2327\n",
      "Epoch 26/50\n",
      "8/8 [==============================] - 0s 3ms/step - loss: 0.0503 - root_mean_squared_error: 0.2243 - val_loss: 0.0510 - val_root_mean_squared_error: 0.2258\n",
      "Epoch 27/50\n",
      "8/8 [==============================] - 0s 4ms/step - loss: 0.0477 - root_mean_squared_error: 0.2185 - val_loss: 0.0484 - val_root_mean_squared_error: 0.2199\n",
      "Epoch 28/50\n",
      "8/8 [==============================] - 0s 4ms/step - loss: 0.0453 - root_mean_squared_error: 0.2129 - val_loss: 0.0453 - val_root_mean_squared_error: 0.2129\n",
      "Epoch 29/50\n",
      "8/8 [==============================] - 0s 4ms/step - loss: 0.0424 - root_mean_squared_error: 0.2060 - val_loss: 0.0427 - val_root_mean_squared_error: 0.2066\n",
      "Epoch 30/50\n",
      "8/8 [==============================] - 0s 4ms/step - loss: 0.0399 - root_mean_squared_error: 0.1999 - val_loss: 0.0403 - val_root_mean_squared_error: 0.2008\n",
      "Epoch 31/50\n",
      "8/8 [==============================] - 0s 4ms/step - loss: 0.0379 - root_mean_squared_error: 0.1948 - val_loss: 0.0375 - val_root_mean_squared_error: 0.1936\n",
      "Epoch 32/50\n",
      "8/8 [==============================] - 0s 4ms/step - loss: 0.0356 - root_mean_squared_error: 0.1887 - val_loss: 0.0354 - val_root_mean_squared_error: 0.1882\n",
      "Epoch 33/50\n",
      "8/8 [==============================] - 0s 4ms/step - loss: 0.0337 - root_mean_squared_error: 0.1835 - val_loss: 0.0338 - val_root_mean_squared_error: 0.1838\n",
      "Epoch 34/50\n",
      "8/8 [==============================] - 0s 4ms/step - loss: 0.0318 - root_mean_squared_error: 0.1784 - val_loss: 0.0315 - val_root_mean_squared_error: 0.1776\n",
      "Epoch 35/50\n",
      "8/8 [==============================] - 0s 4ms/step - loss: 0.0298 - root_mean_squared_error: 0.1725 - val_loss: 0.0293 - val_root_mean_squared_error: 0.1710\n",
      "Epoch 36/50\n",
      "8/8 [==============================] - 0s 4ms/step - loss: 0.0279 - root_mean_squared_error: 0.1670 - val_loss: 0.0273 - val_root_mean_squared_error: 0.1653\n",
      "Epoch 37/50\n",
      "8/8 [==============================] - 0s 3ms/step - loss: 0.0266 - root_mean_squared_error: 0.1631 - val_loss: 0.0261 - val_root_mean_squared_error: 0.1615\n",
      "Epoch 38/50\n",
      "8/8 [==============================] - 0s 4ms/step - loss: 0.0247 - root_mean_squared_error: 0.1573 - val_loss: 0.0241 - val_root_mean_squared_error: 0.1554\n",
      "Epoch 39/50\n",
      "8/8 [==============================] - 0s 4ms/step - loss: 0.0235 - root_mean_squared_error: 0.1532 - val_loss: 0.0228 - val_root_mean_squared_error: 0.1510\n",
      "Epoch 40/50\n",
      "8/8 [==============================] - 0s 4ms/step - loss: 0.0220 - root_mean_squared_error: 0.1483 - val_loss: 0.0208 - val_root_mean_squared_error: 0.1444\n",
      "Epoch 41/50\n",
      "8/8 [==============================] - 0s 3ms/step - loss: 0.0205 - root_mean_squared_error: 0.1430 - val_loss: 0.0195 - val_root_mean_squared_error: 0.1397\n",
      "Epoch 42/50\n",
      "8/8 [==============================] - 0s 3ms/step - loss: 0.0194 - root_mean_squared_error: 0.1391 - val_loss: 0.0184 - val_root_mean_squared_error: 0.1355\n",
      "Epoch 43/50\n",
      "8/8 [==============================] - 0s 3ms/step - loss: 0.0180 - root_mean_squared_error: 0.1340 - val_loss: 0.0170 - val_root_mean_squared_error: 0.1304\n",
      "Epoch 44/50\n",
      "8/8 [==============================] - 0s 3ms/step - loss: 0.0168 - root_mean_squared_error: 0.1297 - val_loss: 0.0158 - val_root_mean_squared_error: 0.1256\n",
      "Epoch 45/50\n",
      "8/8 [==============================] - 0s 4ms/step - loss: 0.0159 - root_mean_squared_error: 0.1260 - val_loss: 0.0147 - val_root_mean_squared_error: 0.1213\n",
      "Epoch 46/50\n",
      "8/8 [==============================] - 0s 3ms/step - loss: 0.0147 - root_mean_squared_error: 0.1214 - val_loss: 0.0137 - val_root_mean_squared_error: 0.1169\n",
      "Epoch 47/50\n",
      "8/8 [==============================] - 0s 3ms/step - loss: 0.0139 - root_mean_squared_error: 0.1180 - val_loss: 0.0128 - val_root_mean_squared_error: 0.1132\n",
      "Epoch 48/50\n",
      "8/8 [==============================] - 0s 3ms/step - loss: 0.0130 - root_mean_squared_error: 0.1142 - val_loss: 0.0114 - val_root_mean_squared_error: 0.1069\n",
      "Epoch 49/50\n"
     ]
    },
    {
     "name": "stdout",
     "output_type": "stream",
     "text": [
      "8/8 [==============================] - 0s 3ms/step - loss: 0.0122 - root_mean_squared_error: 0.1104 - val_loss: 0.0106 - val_root_mean_squared_error: 0.1030\n",
      "Epoch 50/50\n",
      "8/8 [==============================] - 0s 3ms/step - loss: 0.0114 - root_mean_squared_error: 0.1069 - val_loss: 0.0103 - val_root_mean_squared_error: 0.1013\n"
     ]
    },
    {
     "data": {
      "image/png": "[encoded data removed]",
      "text/plain": [
       "<Figure size 432x288 with 1 Axes>"
      ]
     },
     "metadata": {},
     "output_type": "display_data"
    }
   ],
   "source": [
    "history=model_nn_width.fit(x_train_width,y_train_width,\n",
    "                 epochs=50,\n",
    "                 batch_size=8,\n",
    "                 verbose=1,\n",
    "                 validation_data=(x_test_width,y_test_width))\n",
    "plt.plot(history.history[\"root_mean_squared_error\"],\n",
    "        label=\"Точность обучения\")\n",
    "plt.plot(history.history[\"val_root_mean_squared_error\"],\n",
    "        label=\"Точность тестирования\")\n",
    "plt.xlabel(\"эпоха\")\n",
    "plt.ylabel(\"точность\")\n",
    "plt.legend()\n",
    "plt.show()"
   ]
  },
  {
   "cell_type": "markdown",
   "id": "a6f04c80",
   "metadata": {},
   "source": [
    "### Предсказание нейросети"
   ]
  },
  {
   "cell_type": "code",
   "execution_count": 55,
   "id": "2c523985",
   "metadata": {
    "scrolled": true
   },
   "outputs": [
    {
     "name": "stdout",
     "output_type": "stream",
     "text": [
      "1/1 [==============================] - 0s 56ms/step\n"
     ]
    }
   ],
   "source": [
    "y_predict_nn_width=model_nn_width.predict(x_test_width)"
   ]
  },
  {
   "cell_type": "code",
   "execution_count": 56,
   "id": "88c1aa9f",
   "metadata": {
    "scrolled": true
   },
   "outputs": [
    {
     "name": "stdout",
     "output_type": "stream",
     "text": [
      "1/1 [==============================] - 0s 70ms/step - loss: 0.0103 - root_mean_squared_error: 0.1013\n"
     ]
    },
    {
     "data": {
      "text/plain": [
       "{'loss': 0.01025856751948595, 'root_mean_squared_error': 0.10128458589315414}"
      ]
     },
     "execution_count": 56,
     "metadata": {},
     "output_type": "execute_result"
    }
   ],
   "source": [
    "model_nn_width.evaluate(x_test_width,y_test_width, return_dict=True)"
   ]
  },
  {
   "cell_type": "markdown",
   "id": "cba8b0ec",
   "metadata": {},
   "source": [
    "### Сравнение точности предсказания лучшей модели  с подобранными гипперпараметрами с предсказанием нейросети"
   ]
  },
  {
   "cell_type": "code",
   "execution_count": 57,
   "id": "e0bdc0af",
   "metadata": {},
   "outputs": [
    {
     "data": {
      "text/html": [
       "<style type=\"text/css\">\n",
       "#T_3f372_row0_col0, #T_3f372_row0_col1 {\n",
       "  background-color: yellow;\n",
       "}\n",
       "</style>\n",
       "<table id=\"T_3f372_\">\n",
       "  <thead>\n",
       "    <tr>\n",
       "      <th class=\"blank level0\" >&nbsp;</th>\n",
       "      <th class=\"col_heading level0 col0\" >R2</th>\n",
       "      <th class=\"col_heading level0 col1\" >RMSE</th>\n",
       "    </tr>\n",
       "  </thead>\n",
       "  <tbody>\n",
       "    <tr>\n",
       "      <th id=\"T_3f372_level0_row0\" class=\"row_heading level0 row0\" >KNeighborsRegressor(n_neighbors=3)</th>\n",
       "      <td id=\"T_3f372_row0_col0\" class=\"data row0 col0\" >0.978023</td>\n",
       "      <td id=\"T_3f372_row0_col1\" class=\"data row0 col1\" >-0.002294</td>\n",
       "    </tr>\n",
       "    <tr>\n",
       "      <th id=\"T_3f372_level0_row1\" class=\"row_heading level0 row1\" >Neural network</th>\n",
       "      <td id=\"T_3f372_row1_col0\" class=\"data row1 col0\" >0.901738</td>\n",
       "      <td id=\"T_3f372_row1_col1\" class=\"data row1 col1\" >-0.010259</td>\n",
       "    </tr>\n",
       "  </tbody>\n",
       "</table>\n"
      ],
      "text/plain": [
       "<pandas.io.formats.style.Styler at 0x236ac359e80>"
      ]
     },
     "execution_count": 57,
     "metadata": {},
     "output_type": "execute_result"
    }
   ],
   "source": [
    "analitics(best_model_optimal_params_width,\"Neural network\",y_test_width,y_predict_optimal_width,y_predict_nn_width)"
   ]
  },
  {
   "cell_type": "markdown",
   "id": "70922e07",
   "metadata": {},
   "source": [
    "# Решение второй задачи - глубина"
   ]
  },
  {
   "cell_type": "markdown",
   "id": "672a3911",
   "metadata": {},
   "source": [
    "## Алгоритмы из библиотеки SKlearn"
   ]
  },
  {
   "cell_type": "markdown",
   "id": "607ae5be",
   "metadata": {},
   "source": [
    "### Выборка"
   ]
  },
  {
   "cell_type": "code",
   "execution_count": 58,
   "id": "01fb095a",
   "metadata": {},
   "outputs": [],
   "source": [
    "x_train_to_prp_depth,x_test_to_prp_depth,y_train_to_prp_depth,y_test_to_prp_depth=train_test_split(x_depth,y_depth,test_size=0.1,random_state=RS)"
   ]
  },
  {
   "cell_type": "code",
   "execution_count": 59,
   "id": "51838f25",
   "metadata": {},
   "outputs": [],
   "source": [
    "x_train_depth=clf_depth.fit_transform(x_train_to_prp_depth)\n",
    "x_test_depth=clf_depth.transform(x_test_to_prp_depth)"
   ]
  },
  {
   "cell_type": "code",
   "execution_count": 60,
   "id": "2eeb0883",
   "metadata": {},
   "outputs": [],
   "source": [
    "y_train_depth=y_train_to_prp_depth[\"Depth\"].values\n",
    "y_test_depth=y_test_to_prp_depth[\"Depth\"].values"
   ]
  },
  {
   "cell_type": "markdown",
   "id": "a3c9f400",
   "metadata": {},
   "source": [
    "### Сравнение метрик моделей с дефолтными параметрами"
   ]
  },
  {
   "cell_type": "code",
   "execution_count": 61,
   "id": "730daa4e",
   "metadata": {
    "scrolled": true
   },
   "outputs": [
    {
     "data": {
      "text/html": [
       "<style type=\"text/css\">\n",
       "#T_6bfe0_row6_col0, #T_6bfe0_row6_col1 {\n",
       "  background-color: yellow;\n",
       "}\n",
       "</style>\n",
       "<table id=\"T_6bfe0_\">\n",
       "  <thead>\n",
       "    <tr>\n",
       "      <th class=\"blank level0\" >&nbsp;</th>\n",
       "      <th class=\"col_heading level0 col0\" >R2</th>\n",
       "      <th class=\"col_heading level0 col1\" >RMSE</th>\n",
       "    </tr>\n",
       "  </thead>\n",
       "  <tbody>\n",
       "    <tr>\n",
       "      <th id=\"T_6bfe0_level0_row0\" class=\"row_heading level0 row0\" >DummyRegressor</th>\n",
       "      <td id=\"T_6bfe0_row0_col0\" class=\"data row0 col0\" >-0.272412</td>\n",
       "      <td id=\"T_6bfe0_row0_col1\" class=\"data row0 col1\" >-0.227883</td>\n",
       "    </tr>\n",
       "    <tr>\n",
       "      <th id=\"T_6bfe0_level0_row1\" class=\"row_heading level0 row1\" >Ridge</th>\n",
       "      <td id=\"T_6bfe0_row1_col0\" class=\"data row1 col0\" >0.493701</td>\n",
       "      <td id=\"T_6bfe0_row1_col1\" class=\"data row1 col1\" >-0.143741</td>\n",
       "    </tr>\n",
       "    <tr>\n",
       "      <th id=\"T_6bfe0_level0_row2\" class=\"row_heading level0 row2\" >Lasso</th>\n",
       "      <td id=\"T_6bfe0_row2_col0\" class=\"data row2 col0\" >-0.272412</td>\n",
       "      <td id=\"T_6bfe0_row2_col1\" class=\"data row2 col1\" >-0.227883</td>\n",
       "    </tr>\n",
       "    <tr>\n",
       "      <th id=\"T_6bfe0_level0_row3\" class=\"row_heading level0 row3\" >SVR</th>\n",
       "      <td id=\"T_6bfe0_row3_col0\" class=\"data row3 col0\" >0.739224</td>\n",
       "      <td id=\"T_6bfe0_row3_col1\" class=\"data row3 col1\" >-0.103205</td>\n",
       "    </tr>\n",
       "    <tr>\n",
       "      <th id=\"T_6bfe0_level0_row4\" class=\"row_heading level0 row4\" >KNeighborsRegressor</th>\n",
       "      <td id=\"T_6bfe0_row4_col0\" class=\"data row4 col0\" >0.779870</td>\n",
       "      <td id=\"T_6bfe0_row4_col1\" class=\"data row4 col1\" >-0.094616</td>\n",
       "    </tr>\n",
       "    <tr>\n",
       "      <th id=\"T_6bfe0_level0_row5\" class=\"row_heading level0 row5\" >DecisionTreeRegressor</th>\n",
       "      <td id=\"T_6bfe0_row5_col0\" class=\"data row5 col0\" >0.630564</td>\n",
       "      <td id=\"T_6bfe0_row5_col1\" class=\"data row5 col1\" >-0.117695</td>\n",
       "    </tr>\n",
       "    <tr>\n",
       "      <th id=\"T_6bfe0_level0_row6\" class=\"row_heading level0 row6\" >RandomForestRegressor</th>\n",
       "      <td id=\"T_6bfe0_row6_col0\" class=\"data row6 col0\" >0.798752</td>\n",
       "      <td id=\"T_6bfe0_row6_col1\" class=\"data row6 col1\" >-0.089856</td>\n",
       "    </tr>\n",
       "  </tbody>\n",
       "</table>\n"
      ],
      "text/plain": [
       "<pandas.io.formats.style.Styler at 0x236adef1d90>"
      ]
     },
     "execution_count": 61,
     "metadata": {},
     "output_type": "execute_result"
    }
   ],
   "source": [
    "dict_models_depth = {\n",
    "    \"DummyRegressor\": DummyRegressor(strategy=\"mean\"),\n",
    "    \"Ridge\": Ridge(),\n",
    "    \"Lasso\": Lasso(),\n",
    "    \"SVR\": SVR(),\n",
    "    \"KNeighborsRegressor\": KNeighborsRegressor(),\n",
    "    \"DecisionTreeRegressor\": DecisionTreeRegressor(random_state=RS),\n",
    "    \"RandomForestRegressor\": RandomForestRegressor(random_state=RS)\n",
    "}\n",
    "\n",
    "stat_depth = run_cv_for_models(dict_models_depth, x_train_depth, y_train_depth)\n",
    "stat_depth.style.highlight_max(axis=0)"
   ]
  },
  {
   "cell_type": "markdown",
   "id": "56370c30",
   "metadata": {},
   "source": [
    "### Подбор гипперпараметров"
   ]
  },
  {
   "cell_type": "code",
   "execution_count": 62,
   "id": "785af3e3",
   "metadata": {},
   "outputs": [],
   "source": [
    "dict_search_model_depth={}"
   ]
  },
  {
   "cell_type": "markdown",
   "id": "c8526b14",
   "metadata": {},
   "source": [
    "#### ***Ridge***"
   ]
  },
  {
   "cell_type": "code",
   "execution_count": 63,
   "id": "19c50378",
   "metadata": {},
   "outputs": [
    {
     "data": {
      "text/plain": [
       "{'alpha': 0.17684422110552764, 'solver': 'sag'}"
      ]
     },
     "execution_count": 63,
     "metadata": {},
     "output_type": "execute_result"
    }
   ],
   "source": [
    "params_depth = [\n",
    "  {\n",
    "    \"solver\": [\"auto\", \"svd\", \"cholesky\", \"lsqr\", \"sparse_cg\", \"sag\", \"saga\", \"lbfgs\"],\n",
    "    \"alpha\": np.linspace(0.001, 5, 200)\n",
    "  },           \n",
    "  {\n",
    "    \"solver\": [\"lbfgs\"],\n",
    "    \"alpha\": np.linspace(0.001, 5, 200),\n",
    "    \"positive\": [True]\n",
    "  }\n",
    "]\n",
    "search, search_option_model,best_params = run_grid_search_optimiser(Ridge(), params_depth, x_train_depth, y_train_depth)\n",
    "dict_search_model_depth[str(search_option_model)] = search_option_model\n",
    "best_params"
   ]
  },
  {
   "cell_type": "markdown",
   "id": "1195ed36",
   "metadata": {},
   "source": [
    "#### ***Lasso***"
   ]
  },
  {
   "cell_type": "code",
   "execution_count": 64,
   "id": "c36fbf70",
   "metadata": {},
   "outputs": [
    {
     "data": {
      "text/plain": [
       "{'alpha': 0.001}"
      ]
     },
     "execution_count": 64,
     "metadata": {},
     "output_type": "execute_result"
    }
   ],
   "source": [
    "params_depth = {\n",
    "    \"alpha\": np.linspace(0.001, 5, 200)\n",
    "  }\n",
    "search, search_option_model,best_params = run_grid_search_optimiser(Lasso(), params_depth, x_train_depth, y_train_depth)\n",
    "dict_search_model_depth[str(search_option_model)] = search_option_model\n",
    "best_params"
   ]
  },
  {
   "cell_type": "markdown",
   "id": "487b9fd7",
   "metadata": {},
   "source": [
    "#### ***SVR***"
   ]
  },
  {
   "cell_type": "code",
   "execution_count": 65,
   "id": "8b625809",
   "metadata": {},
   "outputs": [
    {
     "data": {
      "text/plain": [
       "{'C': 0.3778090452261307, 'kernel': 'rbf'}"
      ]
     },
     "execution_count": 65,
     "metadata": {},
     "output_type": "execute_result"
    }
   ],
   "source": [
    "params_depth = [       \n",
    "    {\n",
    "      \"kernel\": [\"linear\"],\n",
    "      \"C\": np.linspace(0.001, 5, 200)\n",
    "    },\n",
    "    {\n",
    "      \"kernel\": [\"poly\"],\n",
    "      \"C\": np.linspace(0.001, 5, 200)\n",
    "    },\n",
    "    {\n",
    "      \"kernel\": [\"rbf\"],\n",
    "      \"C\": np.linspace(0.001, 5, 200)\n",
    "    },\n",
    "    {\n",
    "      \"kernel\": [\"sigmoid\"],\n",
    "      \"C\": np.linspace(0.001, 5, 200)\n",
    "    }\n",
    "]\n",
    "search, search_option_model,best_params = run_grid_search_optimiser(SVR(), params_depth, x_train_depth, y_train_depth)\n",
    "dict_search_model_depth[str(search_option_model)] = search_option_model\n",
    "best_params"
   ]
  },
  {
   "cell_type": "markdown",
   "id": "c4c711fb",
   "metadata": {},
   "source": [
    "#### ***KNeighborsRegressor***"
   ]
  },
  {
   "cell_type": "code",
   "execution_count": 66,
   "id": "7dd79588",
   "metadata": {},
   "outputs": [
    {
     "data": {
      "text/plain": [
       "{'n_neighbors': 3}"
      ]
     },
     "execution_count": 66,
     "metadata": {},
     "output_type": "execute_result"
    }
   ],
   "source": [
    "params_depth = {\n",
    "      \"n_neighbors\": range(1, 21, 2)\n",
    "    }\n",
    "search, search_option_model,best_params = run_grid_search_optimiser(KNeighborsRegressor(), params_depth, x_train_depth, y_train_depth)\n",
    "dict_search_model_depth[str(search_option_model)] = search_option_model\n",
    "best_params"
   ]
  },
  {
   "cell_type": "markdown",
   "id": "d60d579b",
   "metadata": {},
   "source": [
    "#### ***DecisionTreeRegressor***"
   ]
  },
  {
   "cell_type": "code",
   "execution_count": 67,
   "id": "54496744",
   "metadata": {},
   "outputs": [
    {
     "data": {
      "text/plain": [
       "{'max_depth': 5,\n",
       " 'min_samples_leaf': 2,\n",
       " 'min_samples_split': 2,\n",
       " 'random_state': 42}"
      ]
     },
     "execution_count": 67,
     "metadata": {},
     "output_type": "execute_result"
    }
   ],
   "source": [
    "params_depth = {\n",
    "    \"random_state\": [RS],\n",
    "    \"max_depth\": range(1, 11, 1),\n",
    "    \"min_samples_split\": range(2, 5, 1),\n",
    "    \"min_samples_leaf\": range(2, 5, 1),\n",
    "}\n",
    "search, search_option_model,best_params = run_grid_search_optimiser(DecisionTreeRegressor(), params_depth, x_train_depth, y_train_depth)\n",
    "dict_search_model_depth[str(search_option_model)] = search_option_model\n",
    "best_params"
   ]
  },
  {
   "cell_type": "markdown",
   "id": "2244886b",
   "metadata": {},
   "source": [
    "#### ***RandomForestRegressor***"
   ]
  },
  {
   "cell_type": "code",
   "execution_count": 68,
   "id": "8b248d1b",
   "metadata": {},
   "outputs": [
    {
     "data": {
      "text/plain": [
       "{'max_depth': 6,\n",
       " 'min_samples_leaf': 2,\n",
       " 'min_samples_split': 2,\n",
       " 'n_estimators': 70,\n",
       " 'random_state': 42}"
      ]
     },
     "execution_count": 68,
     "metadata": {},
     "output_type": "execute_result"
    }
   ],
   "source": [
    "params_depth = {\n",
    "    \"random_state\": [RS],\n",
    "    \"n_estimators\": range(50, 100, 10),\n",
    "    \"max_depth\": range(1, 11, 1),\n",
    "    \"min_samples_split\": range(2, 5, 1),\n",
    "    \"min_samples_leaf\": range(2, 5, 1),\n",
    "}\n",
    "search, search_option_model,best_params = run_grid_search_optimiser(RandomForestRegressor(), params_depth, x_train_depth, y_train_depth)\n",
    "dict_search_model_depth[str(search_option_model)] = search_option_model\n",
    "best_params"
   ]
  },
  {
   "cell_type": "code",
   "execution_count": 69,
   "id": "78855707",
   "metadata": {},
   "outputs": [
    {
     "data": {
      "text/html": [
       "<style type=\"text/css\">\n",
       "#T_54165_row4_col0, #T_54165_row4_col1 {\n",
       "  background-color: yellow;\n",
       "}\n",
       "</style>\n",
       "<table id=\"T_54165_\">\n",
       "  <thead>\n",
       "    <tr>\n",
       "      <th class=\"blank level0\" >&nbsp;</th>\n",
       "      <th class=\"col_heading level0 col0\" >R2</th>\n",
       "      <th class=\"col_heading level0 col1\" >RMSE</th>\n",
       "    </tr>\n",
       "  </thead>\n",
       "  <tbody>\n",
       "    <tr>\n",
       "      <th id=\"T_54165_level0_row0\" class=\"row_heading level0 row0\" >Ridge(alpha=0.17684422110552764, solver='sag')</th>\n",
       "      <td id=\"T_54165_row0_col0\" class=\"data row0 col0\" >0.498686</td>\n",
       "      <td id=\"T_54165_row0_col1\" class=\"data row0 col1\" >-0.143092</td>\n",
       "    </tr>\n",
       "    <tr>\n",
       "      <th id=\"T_54165_level0_row1\" class=\"row_heading level0 row1\" >Lasso(alpha=0.001)</th>\n",
       "      <td id=\"T_54165_row1_col0\" class=\"data row1 col0\" >0.496550</td>\n",
       "      <td id=\"T_54165_row1_col1\" class=\"data row1 col1\" >-0.143385</td>\n",
       "    </tr>\n",
       "    <tr>\n",
       "      <th id=\"T_54165_level0_row2\" class=\"row_heading level0 row2\" >SVR(C=0.3778090452261307)</th>\n",
       "      <td id=\"T_54165_row2_col0\" class=\"data row2 col0\" >0.740406</td>\n",
       "      <td id=\"T_54165_row2_col1\" class=\"data row2 col1\" >-0.102974</td>\n",
       "    </tr>\n",
       "    <tr>\n",
       "      <th id=\"T_54165_level0_row3\" class=\"row_heading level0 row3\" >KNeighborsRegressor(n_neighbors=3)</th>\n",
       "      <td id=\"T_54165_row3_col0\" class=\"data row3 col0\" >0.768051</td>\n",
       "      <td id=\"T_54165_row3_col1\" class=\"data row3 col1\" >-0.094600</td>\n",
       "    </tr>\n",
       "    <tr>\n",
       "      <th id=\"T_54165_level0_row4\" class=\"row_heading level0 row4\" >DecisionTreeRegressor(max_depth=5, min_samples_leaf=2, random_state=42)</th>\n",
       "      <td id=\"T_54165_row4_col0\" class=\"data row4 col0\" >0.805371</td>\n",
       "      <td id=\"T_54165_row4_col1\" class=\"data row4 col1\" >-0.086152</td>\n",
       "    </tr>\n",
       "    <tr>\n",
       "      <th id=\"T_54165_level0_row5\" class=\"row_heading level0 row5\" >RandomForestRegressor(max_depth=6, min_samples_leaf=2, n_estimators=70,\n",
       "                      random_state=42)</th>\n",
       "      <td id=\"T_54165_row5_col0\" class=\"data row5 col0\" >0.800397</td>\n",
       "      <td id=\"T_54165_row5_col1\" class=\"data row5 col1\" >-0.089752</td>\n",
       "    </tr>\n",
       "  </tbody>\n",
       "</table>\n"
      ],
      "text/plain": [
       "<pandas.io.formats.style.Styler at 0x236ac6f74c0>"
      ]
     },
     "execution_count": 69,
     "metadata": {},
     "output_type": "execute_result"
    }
   ],
   "source": [
    "stat_depth = run_cv_for_models(dict_search_model_depth, x_train_depth, y_train_depth)\n",
    "stat_depth.style.highlight_max(axis=0)"
   ]
  },
  {
   "cell_type": "markdown",
   "id": "adcde91a",
   "metadata": {},
   "source": [
    "### Предсказание лучшей модели с дефолтными параметрами"
   ]
  },
  {
   "cell_type": "code",
   "execution_count": 70,
   "id": "8e19d76f",
   "metadata": {},
   "outputs": [],
   "source": [
    "best_model_base_params_depth=RandomForestRegressor(random_state=RS)\n",
    "best_model_base_params_depth.fit(x_train_depth,y_train_depth)\n",
    "y_predict_base_depth=best_model_base_params_depth.predict(x_test_depth)"
   ]
  },
  {
   "cell_type": "markdown",
   "id": "d10e6761",
   "metadata": {},
   "source": [
    "### Предсказание лучшей модели с подобранными гипперпараметрами"
   ]
  },
  {
   "cell_type": "code",
   "execution_count": 71,
   "id": "df8de231",
   "metadata": {},
   "outputs": [],
   "source": [
    "best_model_optimal_params_depth=DecisionTreeRegressor(max_depth=5, min_samples_leaf=2, random_state=42)\n",
    "best_model_optimal_params_depth.fit(x_train_depth,y_train_depth)\n",
    "y_predict_optimal_depth=best_model_optimal_params_depth.predict(x_test_depth)"
   ]
  },
  {
   "cell_type": "markdown",
   "id": "fe196bcd",
   "metadata": {},
   "source": [
    "### Сравнение точности предсказания лучшей модели с дефолтными гипперпараметрами с лучшей моделью с подобранными гипперпараметрами по метрикам"
   ]
  },
  {
   "cell_type": "code",
   "execution_count": 74,
   "id": "fa5526fb",
   "metadata": {
    "scrolled": false
   },
   "outputs": [
    {
     "data": {
      "text/html": [
       "<style type=\"text/css\">\n",
       "#T_f5565_row1_col0, #T_f5565_row1_col1 {\n",
       "  background-color: yellow;\n",
       "}\n",
       "</style>\n",
       "<table id=\"T_f5565_\">\n",
       "  <thead>\n",
       "    <tr>\n",
       "      <th class=\"blank level0\" >&nbsp;</th>\n",
       "      <th class=\"col_heading level0 col0\" >R2</th>\n",
       "      <th class=\"col_heading level0 col1\" >RMSE</th>\n",
       "    </tr>\n",
       "  </thead>\n",
       "  <tbody>\n",
       "    <tr>\n",
       "      <th id=\"T_f5565_level0_row0\" class=\"row_heading level0 row0\" >RandomForestRegressor(random_state=42)</th>\n",
       "      <td id=\"T_f5565_row0_col0\" class=\"data row0 col0\" >0.904070</td>\n",
       "      <td id=\"T_f5565_row0_col1\" class=\"data row0 col1\" >-0.006293</td>\n",
       "    </tr>\n",
       "    <tr>\n",
       "      <th id=\"T_f5565_level0_row1\" class=\"row_heading level0 row1\" >DecisionTreeRegressor(max_depth=5, min_samples_leaf=2, random_state=42)</th>\n",
       "      <td id=\"T_f5565_row1_col0\" class=\"data row1 col0\" >0.905801</td>\n",
       "      <td id=\"T_f5565_row1_col1\" class=\"data row1 col1\" >-0.006179</td>\n",
       "    </tr>\n",
       "  </tbody>\n",
       "</table>\n"
      ],
      "text/plain": [
       "<pandas.io.formats.style.Styler at 0x236acacf4c0>"
      ]
     },
     "execution_count": 74,
     "metadata": {},
     "output_type": "execute_result"
    }
   ],
   "source": [
    "analitics(best_model_base_params_depth,best_model_optimal_params_depth,y_test_depth,y_predict_base_depth,y_predict_optimal_depth)"
   ]
  },
  {
   "cell_type": "markdown",
   "id": "90c2902c",
   "metadata": {},
   "source": [
    "### Проверка на переобучение"
   ]
  },
  {
   "cell_type": "code",
   "execution_count": 75,
   "id": "3a46cdf9",
   "metadata": {},
   "outputs": [
    {
     "data": {
      "image/png": "[encoded data removed]",
      "text/plain": [
       "<Figure size 432x288 with 1 Axes>"
      ]
     },
     "metadata": {},
     "output_type": "display_data"
    }
   ],
   "source": [
    "parameter_range = range(1, 11, 1)\n",
    "train_score, test_score = validation_curve(DecisionTreeRegressor(), x_train_depth, y_train_depth,\n",
    "                                       param_name = \"max_depth\",\n",
    "                                       param_range = parameter_range,\n",
    "                                        cv = 3, scoring = \"r2\")\n",
    "val_curve(train_score,test_score,\"DecisionTreeRegressor\",\"max_depth\")"
   ]
  },
  {
   "cell_type": "code",
   "execution_count": 76,
   "id": "cd7091e7",
   "metadata": {
    "scrolled": true
   },
   "outputs": [
    {
     "data": {
      "image/png": "[encoded data removed]",
      "text/plain": [
       "<Figure size 432x288 with 1 Axes>"
      ]
     },
     "metadata": {},
     "output_type": "display_data"
    }
   ],
   "source": [
    "parameter_range = range(2, 5, 1)\n",
    "train_score, test_score = validation_curve(DecisionTreeRegressor(), x_train_depth, y_train_depth,\n",
    "                                       param_name = \"min_samples_leaf\",\n",
    "                                       param_range = parameter_range,\n",
    "                                        cv = 3, scoring = \"r2\")\n",
    "val_curve(train_score,test_score,\"DecisionTreeRegressor\",\"min_samples_leaf\")"
   ]
  },
  {
   "cell_type": "markdown",
   "id": "4d05a37d",
   "metadata": {},
   "source": [
    "#### Исходя из графиков делаем вывод, что модель не переобучена"
   ]
  },
  {
   "cell_type": "markdown",
   "id": "b840937e",
   "metadata": {},
   "source": [
    "## Нейросеть"
   ]
  },
  {
   "cell_type": "markdown",
   "id": "40823043",
   "metadata": {},
   "source": [
    "### Размерность входа"
   ]
  },
  {
   "cell_type": "code",
   "execution_count": 77,
   "id": "3585d9ca",
   "metadata": {},
   "outputs": [],
   "source": [
    "n_influencing_depth=x_train_depth.shape[1]"
   ]
  },
  {
   "cell_type": "markdown",
   "id": "969c0ef4",
   "metadata": {},
   "source": [
    "### Архитектура НС"
   ]
  },
  {
   "cell_type": "code",
   "execution_count": 78,
   "id": "30454ed9",
   "metadata": {},
   "outputs": [],
   "source": [
    "model_nn_depth=Sequential()\n",
    "model_nn_depth.add(Dense(128,activation=\"relu\",input_shape=(n_influencing_depth,)))\n",
    "model_nn_depth.add(Dense(1,activation=\"relu\"))"
   ]
  },
  {
   "cell_type": "markdown",
   "id": "c75b8f9d",
   "metadata": {},
   "source": [
    "### Компиляция модели"
   ]
  },
  {
   "cell_type": "code",
   "execution_count": 79,
   "id": "70baeb4c",
   "metadata": {},
   "outputs": [],
   "source": [
    "model_nn_depth.compile(optimizer=\"adam\",loss=\"mean_squared_error\",metrics=[tf.keras.metrics.RootMeanSquaredError()])"
   ]
  },
  {
   "cell_type": "markdown",
   "id": "a151c1fb",
   "metadata": {},
   "source": [
    "### Обучение"
   ]
  },
  {
   "cell_type": "code",
   "execution_count": 80,
   "id": "d644e776",
   "metadata": {
    "scrolled": false
   },
   "outputs": [
    {
     "name": "stdout",
     "output_type": "stream",
     "text": [
      "Epoch 1/50\n",
      "8/8 [==============================] - 0s 14ms/step - loss: 0.9859 - root_mean_squared_error: 0.9929 - val_loss: 1.0661 - val_root_mean_squared_error: 1.0325\n",
      "Epoch 2/50\n",
      "8/8 [==============================] - 0s 3ms/step - loss: 0.6636 - root_mean_squared_error: 0.8146 - val_loss: 0.7083 - val_root_mean_squared_error: 0.8416\n",
      "Epoch 3/50\n",
      "8/8 [==============================] - 0s 4ms/step - loss: 0.4499 - root_mean_squared_error: 0.6707 - val_loss: 0.4508 - val_root_mean_squared_error: 0.6715\n",
      "Epoch 4/50\n",
      "8/8 [==============================] - 0s 3ms/step - loss: 0.2918 - root_mean_squared_error: 0.5402 - val_loss: 0.2878 - val_root_mean_squared_error: 0.5365\n",
      "Epoch 5/50\n",
      "8/8 [==============================] - 0s 3ms/step - loss: 0.1975 - root_mean_squared_error: 0.4445 - val_loss: 0.1851 - val_root_mean_squared_error: 0.4303\n",
      "Epoch 6/50\n",
      "8/8 [==============================] - 0s 3ms/step - loss: 0.1445 - root_mean_squared_error: 0.3801 - val_loss: 0.1276 - val_root_mean_squared_error: 0.3572\n",
      "Epoch 7/50\n",
      "8/8 [==============================] - 0s 3ms/step - loss: 0.1092 - root_mean_squared_error: 0.3305 - val_loss: 0.0973 - val_root_mean_squared_error: 0.3120\n",
      "Epoch 8/50\n",
      "8/8 [==============================] - 0s 3ms/step - loss: 0.0925 - root_mean_squared_error: 0.3042 - val_loss: 0.0798 - val_root_mean_squared_error: 0.2825\n",
      "Epoch 9/50\n",
      "8/8 [==============================] - 0s 3ms/step - loss: 0.0835 - root_mean_squared_error: 0.2889 - val_loss: 0.0681 - val_root_mean_squared_error: 0.2611\n",
      "Epoch 10/50\n",
      "8/8 [==============================] - 0s 3ms/step - loss: 0.0753 - root_mean_squared_error: 0.2745 - val_loss: 0.0597 - val_root_mean_squared_error: 0.2443\n",
      "Epoch 11/50\n",
      "8/8 [==============================] - 0s 3ms/step - loss: 0.0664 - root_mean_squared_error: 0.2577 - val_loss: 0.0542 - val_root_mean_squared_error: 0.2329\n",
      "Epoch 12/50\n",
      "8/8 [==============================] - 0s 3ms/step - loss: 0.0609 - root_mean_squared_error: 0.2469 - val_loss: 0.0496 - val_root_mean_squared_error: 0.2228\n",
      "Epoch 13/50\n",
      "8/8 [==============================] - 0s 3ms/step - loss: 0.0568 - root_mean_squared_error: 0.2383 - val_loss: 0.0469 - val_root_mean_squared_error: 0.2165\n",
      "Epoch 14/50\n",
      "8/8 [==============================] - 0s 3ms/step - loss: 0.0524 - root_mean_squared_error: 0.2288 - val_loss: 0.0433 - val_root_mean_squared_error: 0.2082\n",
      "Epoch 15/50\n",
      "8/8 [==============================] - 0s 3ms/step - loss: 0.0493 - root_mean_squared_error: 0.2220 - val_loss: 0.0397 - val_root_mean_squared_error: 0.1991\n",
      "Epoch 16/50\n",
      "8/8 [==============================] - 0s 3ms/step - loss: 0.0461 - root_mean_squared_error: 0.2147 - val_loss: 0.0374 - val_root_mean_squared_error: 0.1934\n",
      "Epoch 17/50\n",
      "8/8 [==============================] - 0s 3ms/step - loss: 0.0437 - root_mean_squared_error: 0.2090 - val_loss: 0.0359 - val_root_mean_squared_error: 0.1894\n",
      "Epoch 18/50\n",
      "8/8 [==============================] - 0s 3ms/step - loss: 0.0409 - root_mean_squared_error: 0.2023 - val_loss: 0.0339 - val_root_mean_squared_error: 0.1842\n",
      "Epoch 19/50\n",
      "8/8 [==============================] - 0s 3ms/step - loss: 0.0387 - root_mean_squared_error: 0.1968 - val_loss: 0.0317 - val_root_mean_squared_error: 0.1780\n",
      "Epoch 20/50\n",
      "8/8 [==============================] - 0s 3ms/step - loss: 0.0366 - root_mean_squared_error: 0.1914 - val_loss: 0.0297 - val_root_mean_squared_error: 0.1723\n",
      "Epoch 21/50\n",
      "8/8 [==============================] - 0s 3ms/step - loss: 0.0354 - root_mean_squared_error: 0.1882 - val_loss: 0.0273 - val_root_mean_squared_error: 0.1653\n",
      "Epoch 22/50\n",
      "8/8 [==============================] - 0s 3ms/step - loss: 0.0325 - root_mean_squared_error: 0.1801 - val_loss: 0.0261 - val_root_mean_squared_error: 0.1615\n",
      "Epoch 23/50\n",
      "8/8 [==============================] - 0s 3ms/step - loss: 0.0306 - root_mean_squared_error: 0.1750 - val_loss: 0.0256 - val_root_mean_squared_error: 0.1600\n",
      "Epoch 24/50\n",
      "8/8 [==============================] - 0s 3ms/step - loss: 0.0294 - root_mean_squared_error: 0.1713 - val_loss: 0.0240 - val_root_mean_squared_error: 0.1550\n",
      "Epoch 25/50\n",
      "8/8 [==============================] - 0s 3ms/step - loss: 0.0276 - root_mean_squared_error: 0.1660 - val_loss: 0.0227 - val_root_mean_squared_error: 0.1506\n",
      "Epoch 26/50\n",
      "8/8 [==============================] - 0s 3ms/step - loss: 0.0256 - root_mean_squared_error: 0.1599 - val_loss: 0.0220 - val_root_mean_squared_error: 0.1482\n",
      "Epoch 27/50\n",
      "8/8 [==============================] - 0s 3ms/step - loss: 0.0237 - root_mean_squared_error: 0.1538 - val_loss: 0.0203 - val_root_mean_squared_error: 0.1425\n",
      "Epoch 28/50\n",
      "8/8 [==============================] - 0s 3ms/step - loss: 0.0231 - root_mean_squared_error: 0.1519 - val_loss: 0.0191 - val_root_mean_squared_error: 0.1383\n",
      "Epoch 29/50\n",
      "8/8 [==============================] - 0s 4ms/step - loss: 0.0211 - root_mean_squared_error: 0.1452 - val_loss: 0.0181 - val_root_mean_squared_error: 0.1345\n",
      "Epoch 30/50\n",
      "8/8 [==============================] - 0s 4ms/step - loss: 0.0201 - root_mean_squared_error: 0.1417 - val_loss: 0.0173 - val_root_mean_squared_error: 0.1316\n",
      "Epoch 31/50\n",
      "8/8 [==============================] - 0s 3ms/step - loss: 0.0189 - root_mean_squared_error: 0.1373 - val_loss: 0.0161 - val_root_mean_squared_error: 0.1270\n",
      "Epoch 32/50\n",
      "8/8 [==============================] - 0s 3ms/step - loss: 0.0177 - root_mean_squared_error: 0.1330 - val_loss: 0.0155 - val_root_mean_squared_error: 0.1246\n",
      "Epoch 33/50\n",
      "8/8 [==============================] - 0s 3ms/step - loss: 0.0174 - root_mean_squared_error: 0.1321 - val_loss: 0.0149 - val_root_mean_squared_error: 0.1220\n",
      "Epoch 34/50\n",
      "8/8 [==============================] - 0s 3ms/step - loss: 0.0165 - root_mean_squared_error: 0.1283 - val_loss: 0.0145 - val_root_mean_squared_error: 0.1205\n",
      "Epoch 35/50\n",
      "8/8 [==============================] - 0s 3ms/step - loss: 0.0156 - root_mean_squared_error: 0.1247 - val_loss: 0.0135 - val_root_mean_squared_error: 0.1163\n",
      "Epoch 36/50\n",
      "8/8 [==============================] - 0s 4ms/step - loss: 0.0145 - root_mean_squared_error: 0.1204 - val_loss: 0.0133 - val_root_mean_squared_error: 0.1155\n",
      "Epoch 37/50\n",
      "8/8 [==============================] - 0s 3ms/step - loss: 0.0138 - root_mean_squared_error: 0.1175 - val_loss: 0.0128 - val_root_mean_squared_error: 0.1133\n",
      "Epoch 38/50\n",
      "8/8 [==============================] - 0s 3ms/step - loss: 0.0132 - root_mean_squared_error: 0.1149 - val_loss: 0.0124 - val_root_mean_squared_error: 0.1115\n",
      "Epoch 39/50\n",
      "8/8 [==============================] - 0s 4ms/step - loss: 0.0128 - root_mean_squared_error: 0.1132 - val_loss: 0.0121 - val_root_mean_squared_error: 0.1100\n",
      "Epoch 40/50\n",
      "8/8 [==============================] - 0s 3ms/step - loss: 0.0122 - root_mean_squared_error: 0.1103 - val_loss: 0.0116 - val_root_mean_squared_error: 0.1077\n",
      "Epoch 41/50\n",
      "8/8 [==============================] - 0s 3ms/step - loss: 0.0116 - root_mean_squared_error: 0.1078 - val_loss: 0.0112 - val_root_mean_squared_error: 0.1057\n",
      "Epoch 42/50\n",
      "8/8 [==============================] - 0s 3ms/step - loss: 0.0110 - root_mean_squared_error: 0.1051 - val_loss: 0.0108 - val_root_mean_squared_error: 0.1041\n",
      "Epoch 43/50\n",
      "8/8 [==============================] - 0s 3ms/step - loss: 0.0108 - root_mean_squared_error: 0.1039 - val_loss: 0.0109 - val_root_mean_squared_error: 0.1042\n",
      "Epoch 44/50\n",
      "8/8 [==============================] - 0s 3ms/step - loss: 0.0104 - root_mean_squared_error: 0.1018 - val_loss: 0.0107 - val_root_mean_squared_error: 0.1034\n",
      "Epoch 45/50\n",
      "8/8 [==============================] - 0s 3ms/step - loss: 0.0101 - root_mean_squared_error: 0.1007 - val_loss: 0.0101 - val_root_mean_squared_error: 0.1007\n",
      "Epoch 46/50\n",
      "8/8 [==============================] - 0s 3ms/step - loss: 0.0098 - root_mean_squared_error: 0.0990 - val_loss: 0.0104 - val_root_mean_squared_error: 0.1020\n",
      "Epoch 47/50\n",
      "8/8 [==============================] - 0s 3ms/step - loss: 0.0094 - root_mean_squared_error: 0.0972 - val_loss: 0.0103 - val_root_mean_squared_error: 0.1013\n",
      "Epoch 48/50\n",
      "8/8 [==============================] - 0s 3ms/step - loss: 0.0093 - root_mean_squared_error: 0.0967 - val_loss: 0.0102 - val_root_mean_squared_error: 0.1012\n",
      "Epoch 49/50\n"
     ]
    },
    {
     "name": "stdout",
     "output_type": "stream",
     "text": [
      "8/8 [==============================] - 0s 3ms/step - loss: 0.0088 - root_mean_squared_error: 0.0939 - val_loss: 0.0101 - val_root_mean_squared_error: 0.1003\n",
      "Epoch 50/50\n",
      "8/8 [==============================] - 0s 3ms/step - loss: 0.0086 - root_mean_squared_error: 0.0927 - val_loss: 0.0101 - val_root_mean_squared_error: 0.1007\n"
     ]
    },
    {
     "data": {
      "image/png": "[encoded data removed]",
      "text/plain": [
       "<Figure size 432x288 with 1 Axes>"
      ]
     },
     "metadata": {},
     "output_type": "display_data"
    }
   ],
   "source": [
    "history=model_nn_depth.fit(x_train_depth,y_train_depth,\n",
    "                 epochs=50,\n",
    "                 batch_size=8,\n",
    "                 verbose=1,\n",
    "                 validation_data=(x_test_depth,y_test_depth))\n",
    "plt.plot(history.history[\"root_mean_squared_error\"],\n",
    "        label=\"Точность обучения\")\n",
    "plt.plot(history.history[\"val_root_mean_squared_error\"],\n",
    "        label=\"Точность тестирования\")\n",
    "plt.xlabel(\"эпоха\")\n",
    "plt.ylabel(\"точность\")\n",
    "plt.legend()\n",
    "plt.show()"
   ]
  },
  {
   "cell_type": "markdown",
   "id": "bb070643",
   "metadata": {},
   "source": [
    "### Предсказание нейросети"
   ]
  },
  {
   "cell_type": "code",
   "execution_count": 81,
   "id": "d3bd9238",
   "metadata": {},
   "outputs": [
    {
     "name": "stdout",
     "output_type": "stream",
     "text": [
      "1/1 [==============================] - 0s 34ms/step\n"
     ]
    }
   ],
   "source": [
    "y_predict_nn_depth=model_nn_depth.predict(x_test_depth)"
   ]
  },
  {
   "cell_type": "code",
   "execution_count": 82,
   "id": "ee8180a2",
   "metadata": {
    "scrolled": false
   },
   "outputs": [
    {
     "name": "stdout",
     "output_type": "stream",
     "text": [
      "1/1 [==============================] - 0s 70ms/step - loss: 0.0101 - root_mean_squared_error: 0.1007\n"
     ]
    },
    {
     "data": {
      "text/plain": [
       "{'loss': 0.010146383196115494, 'root_mean_squared_error': 0.10072925686836243}"
      ]
     },
     "execution_count": 82,
     "metadata": {},
     "output_type": "execute_result"
    }
   ],
   "source": [
    "model_nn_depth.evaluate(x_test_depth,y_test_depth, return_dict=True)"
   ]
  },
  {
   "cell_type": "markdown",
   "id": "128498d0",
   "metadata": {},
   "source": [
    "### Сравнение точности предсказания лучшей модели  с подобранными гипперпараметрами с предсказанием нейросети"
   ]
  },
  {
   "cell_type": "code",
   "execution_count": 83,
   "id": "1d6603e8",
   "metadata": {},
   "outputs": [
    {
     "data": {
      "text/html": [
       "<style type=\"text/css\">\n",
       "#T_07e61_row0_col0, #T_07e61_row0_col1 {\n",
       "  background-color: yellow;\n",
       "}\n",
       "</style>\n",
       "<table id=\"T_07e61_\">\n",
       "  <thead>\n",
       "    <tr>\n",
       "      <th class=\"blank level0\" >&nbsp;</th>\n",
       "      <th class=\"col_heading level0 col0\" >R2</th>\n",
       "      <th class=\"col_heading level0 col1\" >RMSE</th>\n",
       "    </tr>\n",
       "  </thead>\n",
       "  <tbody>\n",
       "    <tr>\n",
       "      <th id=\"T_07e61_level0_row0\" class=\"row_heading level0 row0\" >DecisionTreeRegressor(max_depth=5, min_samples_leaf=2, random_state=42)</th>\n",
       "      <td id=\"T_07e61_row0_col0\" class=\"data row0 col0\" >0.905801</td>\n",
       "      <td id=\"T_07e61_row0_col1\" class=\"data row0 col1\" >-0.006179</td>\n",
       "    </tr>\n",
       "    <tr>\n",
       "      <th id=\"T_07e61_level0_row1\" class=\"row_heading level0 row1\" >Neural network</th>\n",
       "      <td id=\"T_07e61_row1_col0\" class=\"data row1 col0\" >0.845330</td>\n",
       "      <td id=\"T_07e61_row1_col1\" class=\"data row1 col1\" >-0.010146</td>\n",
       "    </tr>\n",
       "  </tbody>\n",
       "</table>\n"
      ],
      "text/plain": [
       "<pandas.io.formats.style.Styler at 0x236ac8d65e0>"
      ]
     },
     "execution_count": 83,
     "metadata": {},
     "output_type": "execute_result"
    }
   ],
   "source": [
    "analitics(best_model_optimal_params_depth,\"Neural network\",y_test_depth,y_predict_optimal_depth,y_predict_nn_depth)"
   ]
  },
  {
   "cell_type": "markdown",
   "id": "3008ea79",
   "metadata": {},
   "source": [
    "# Выводы по работе"
   ]
  },
  {
   "cell_type": "markdown",
   "id": "bea4c287",
   "metadata": {},
   "source": [
    "По результатам проделанной работы получены следующие выводы:\n",
    "1. Данная задача - задача регрессии с поиском двух целевых параметров: глубины и ширины;\n",
    "2. Датасет довольно маленький, без пропусков, выбросы в рамках данной предметной области принято считать \"живыми\" результатами эксперимента при заданных параметрах классификационных признаков;\n",
    "3. Для решения задачи поиска ширины лучше всего себя показала модель **\"К ближайших соседей\"** с ***3*** случайными соседями. Модель не переобучена, дает довольно высокий показатель метрики ***R2***. Нейросеть показала себя также довольно неплохо, однако ее метрики хуже метрик оптимального алгоритма\n",
    "4. Для решения задачи поиска длины лучше всего себя показала модель **\"Дерево решений\"** с максимальной глубиной дерева ***5*** и минимальным количеством образцов ***2***. Модель не переобучена, дает довольно высокий показатель метрики R2. Нейросеть показала себя также довольно неплохо, однако ее метрики хуже метрик оптимального алгоритма"
   ]
  },
  {
   "cell_type": "markdown",
   "id": "c5c0e2ae",
   "metadata": {},
   "source": [
    "# Сохранение параметров для передачи их в приложение"
   ]
  },
  {
   "cell_type": "code",
   "execution_count": 84,
   "id": "34003ec9",
   "metadata": {},
   "outputs": [],
   "source": [
    "pickle.dump(best_model_optimal_params_width,open(\"KNN_model_for_width.pkl\",\"wb\"))"
   ]
  },
  {
   "cell_type": "code",
   "execution_count": 85,
   "id": "fff5d0f6",
   "metadata": {},
   "outputs": [],
   "source": [
    "pickle.dump(best_model_optimal_params_depth,open(\"DTR_model_for_depth.pkl\",\"wb\"))"
   ]
  },
  {
   "cell_type": "code",
   "execution_count": 86,
   "id": "e547008f",
   "metadata": {},
   "outputs": [
    {
     "data": {
      "text/plain": [
       "['scaler_width.save']"
      ]
     },
     "execution_count": 86,
     "metadata": {},
     "output_type": "execute_result"
    }
   ],
   "source": [
    "scaler_filename = \"scaler_width.save\"\n",
    "jb.dump(clf_width, scaler_filename) "
   ]
  },
  {
   "cell_type": "code",
   "execution_count": 87,
   "id": "01625f84",
   "metadata": {},
   "outputs": [
    {
     "data": {
      "text/plain": [
       "['scaler_depth.save']"
      ]
     },
     "execution_count": 87,
     "metadata": {},
     "output_type": "execute_result"
    }
   ],
   "source": [
    "scaler_filename = \"scaler_depth.save\"\n",
    "jb.dump(clf_depth, scaler_filename) "
   ]
  },
  {
   "cell_type": "markdown",
   "id": "eafa2a1c",
   "metadata": {},
   "source": [
    "# Проверка чтения модели"
   ]
  },
  {
   "cell_type": "code",
   "execution_count": 88,
   "id": "d1ed9a75",
   "metadata": {
    "scrolled": true
   },
   "outputs": [],
   "source": [
    "model_load_width=pickle.load(open(\"KNN_model_for_width.pkl\",\"rb\"))"
   ]
  },
  {
   "cell_type": "code",
   "execution_count": 90,
   "id": "7685d5bd",
   "metadata": {},
   "outputs": [],
   "source": [
    "model_load_depth=pickle.load(open(\"DTR_model_for_depth.pkl\",\"rb\"))"
   ]
  },
  {
   "cell_type": "code",
   "execution_count": 91,
   "id": "dd701a35",
   "metadata": {},
   "outputs": [
    {
     "data": {
      "text/plain": [
       "array([2.52      , 1.78666667, 1.80666667, 2.52      , 2.52      ,\n",
       "       1.78666667, 1.97333333, 2.09333333])"
      ]
     },
     "execution_count": 91,
     "metadata": {},
     "output_type": "execute_result"
    }
   ],
   "source": [
    "model_load_width.predict(x_test_width)"
   ]
  },
  {
   "cell_type": "code",
   "execution_count": 96,
   "id": "d791bbed",
   "metadata": {},
   "outputs": [
    {
     "data": {
      "text/plain": [
       "array([1.66666667, 1.22857143, 1.12      , 1.5       , 1.5       ,\n",
       "       1.22857143, 1.2       , 0.83333333])"
      ]
     },
     "execution_count": 96,
     "metadata": {},
     "output_type": "execute_result"
    }
   ],
   "source": [
    "model_load_depth.predict(x_test_depth)"
   ]
  },
  {
   "cell_type": "markdown",
   "id": "669439d3",
   "metadata": {},
   "source": [
    "# Проверочные тесты для приложения"
   ]
  },
  {
   "cell_type": "markdown",
   "id": "4c20f957",
   "metadata": {},
   "source": [
    "#### Функция предобработки ввода"
   ]
  },
  {
   "cell_type": "code",
   "execution_count": 97,
   "id": "c4e41820",
   "metadata": {},
   "outputs": [],
   "source": [
    "def predict_transform (params,columns,clf):\n",
    "    list_reshape=np.array(params).reshape(1,len(params))\n",
    "    x_predict=pd.DataFrame(list_reshape,columns=columns)\n",
    "    x_predict_clf=clf.transform(x_predict)\n",
    "    return x_predict_clf"
   ]
  },
  {
   "cell_type": "markdown",
   "id": "23f3e934",
   "metadata": {},
   "source": [
    "#### Тест 1"
   ]
  },
  {
   "cell_type": "code",
   "execution_count": 99,
   "id": "3afe42f0",
   "metadata": {},
   "outputs": [],
   "source": [
    "params_width_1=[141,10]\n",
    "params_depth_1=[46,10,141]\n",
    "columns_width_1=[\"IF\",\"VW\",]\n",
    "columns_depth_1=[\"IW\",\"VW\",\"IF\"]\n",
    "y_predict_width_ex1=best_model_optimal_params_width.predict(predict_transform (params_width_1,columns_width_1,clf_width))\n",
    "y_predict_depth_ex1=best_model_optimal_params_depth.predict(predict_transform (params_depth_1,columns_depth_1,clf_depth))"
   ]
  },
  {
   "cell_type": "code",
   "execution_count": 100,
   "id": "a77a119d",
   "metadata": {},
   "outputs": [
    {
     "data": {
      "text/plain": [
       "array([1.80666667])"
      ]
     },
     "execution_count": 100,
     "metadata": {},
     "output_type": "execute_result"
    }
   ],
   "source": [
    "y_predict_width_ex1"
   ]
  },
  {
   "cell_type": "code",
   "execution_count": 101,
   "id": "4fcb8454",
   "metadata": {},
   "outputs": [
    {
     "data": {
      "text/plain": [
       "array([1.12])"
      ]
     },
     "execution_count": 101,
     "metadata": {},
     "output_type": "execute_result"
    }
   ],
   "source": [
    "y_predict_depth_ex1"
   ]
  },
  {
   "cell_type": "markdown",
   "id": "362ecd6d",
   "metadata": {},
   "source": [
    "#### Тест 2"
   ]
  },
  {
   "cell_type": "code",
   "execution_count": 124,
   "id": "770067fa",
   "metadata": {},
   "outputs": [],
   "source": [
    "params_width_2=[140,5]\n",
    "params_depth_2=[45,5,140]\n",
    "columns_width_2=[\"IF\",\"VW\",]\n",
    "columns_depth_2=[\"IW\",\"VW\",\"IF\"]\n",
    "y_predict_width_ex2=best_model_optimal_params_width.predict(predict_transform (params_width_2,columns_width_2,clf_width))\n",
    "y_predict_depth_ex2=best_model_optimal_params_depth.predict(predict_transform (params_depth_2,columns_depth_2,clf_depth))"
   ]
  },
  {
   "cell_type": "code",
   "execution_count": 125,
   "id": "5603dfdb",
   "metadata": {},
   "outputs": [
    {
     "data": {
      "text/plain": [
       "array([2.52])"
      ]
     },
     "execution_count": 125,
     "metadata": {},
     "output_type": "execute_result"
    }
   ],
   "source": [
    "y_predict_width_ex2"
   ]
  },
  {
   "cell_type": "code",
   "execution_count": 126,
   "id": "b819e027",
   "metadata": {},
   "outputs": [
    {
     "data": {
      "text/plain": [
       "array([1.66666667])"
      ]
     },
     "execution_count": 126,
     "metadata": {},
     "output_type": "execute_result"
    }
   ],
   "source": [
    "y_predict_depth_ex2"
   ]
  },
  {
   "cell_type": "markdown",
   "id": "e91243cd",
   "metadata": {},
   "source": [
    "#### Тест 3"
   ]
  },
  {
   "cell_type": "code",
   "execution_count": 130,
   "id": "f04c3c30",
   "metadata": {},
   "outputs": [],
   "source": [
    "params_width_3=[180,15]\n",
    "params_depth_3=[48,15,180]\n",
    "columns_width_3=[\"IF\",\"VW\",]\n",
    "columns_depth_3=[\"IW\",\"VW\",\"IF\"]\n",
    "y_predict_width_ex3=best_model_optimal_params_width.predict(predict_transform (params_width_3,columns_width_3,clf_width))\n",
    "y_predict_depth_ex3=best_model_optimal_params_depth.predict(predict_transform (params_depth_3,columns_depth_3,clf_depth))"
   ]
  },
  {
   "cell_type": "code",
   "execution_count": 131,
   "id": "b105a4d8",
   "metadata": {},
   "outputs": [
    {
     "data": {
      "text/plain": [
       "array([1.81333333])"
      ]
     },
     "execution_count": 131,
     "metadata": {},
     "output_type": "execute_result"
    }
   ],
   "source": [
    "y_predict_width_ex3"
   ]
  },
  {
   "cell_type": "code",
   "execution_count": 132,
   "id": "1da317ad",
   "metadata": {},
   "outputs": [
    {
     "data": {
      "text/plain": [
       "array([1.08])"
      ]
     },
     "execution_count": 132,
     "metadata": {},
     "output_type": "execute_result"
    }
   ],
   "source": [
    "y_predict_depth_ex3"
   ]
  }
 ],
 "metadata": {
  "kernelspec": {
   "display_name": "Python 3 (ipykernel)",
   "language": "python",
   "name": "python3"
  },
  "language_info": {
   "codemirror_mode": {
    "name": "ipython",
    "version": 3
   },
   "file_extension": ".py",
   "mimetype": "text/x-python",
   "name": "python",
   "nbconvert_exporter": "python",
   "pygments_lexer": "ipython3",
   "version": "3.9.7"
  }
 },
 "nbformat": 4,
 "nbformat_minor": 5
}
